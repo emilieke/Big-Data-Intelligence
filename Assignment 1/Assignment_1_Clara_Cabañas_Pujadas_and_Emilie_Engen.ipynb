{
 "cells": [
  {
   "cell_type": "markdown",
   "metadata": {},
   "source": [
    "## Clara Cabañas Pujadas and Emilie Krutnes Engen"
   ]
  },
  {
   "cell_type": "markdown",
   "metadata": {},
   "source": [
    "# First assignment: feature extraction"
   ]
  },
  {
   "cell_type": "markdown",
   "metadata": {},
   "source": [
    "Directory **20news-18828** contains a list of subdirectories. Each one is a newsgroup. We can check the names of these subdirectories by using *os.listdir*. We can see there are 20 newsgroups and their names:"
   ]
  },
  {
   "cell_type": "code",
   "execution_count": 30,
   "metadata": {
    "collapsed": false
   },
   "outputs": [
    {
     "name": "stdout",
     "output_type": "stream",
     "text": [
      "2\n",
      "['alt.atheism', 'comp.graphics']\n"
     ]
    }
   ],
   "source": [
    "import os\n",
    "\n",
    "# Prefix is a variable that contains the directory where each newsgroup is located\n",
    "# Notice that a double \\\\ has to be used when \\ is desired within a string\n",
    "prefix = \"20news-18828\\\\\"        \n",
    "directories = os.listdir(prefix)\n",
    "print(len(directories))\n",
    "print(directories)"
   ]
  },
  {
   "cell_type": "markdown",
   "metadata": {},
   "source": [
    "Inside each subdirectory, there are many files. Each file constains a message that was posted long time ago in that newsgroup. Let's see the names of the files that contain the first 5 messages, by using again *os.listdir*:"
   ]
  },
  {
   "cell_type": "code",
   "execution_count": 31,
   "metadata": {
    "collapsed": false
   },
   "outputs": [
    {
     "name": "stdout",
     "output_type": "stream",
     "text": [
      "['49960', '51060', '51119', '51120', '51121']\n"
     ]
    }
   ],
   "source": [
    "fileNames = os.listdir(prefix+\"alt.atheism\")\n",
    "print(fileNames[:5])"
   ]
  },
  {
   "cell_type": "markdown",
   "metadata": {},
   "source": [
    "Now, let's see the contents of the first of those messages. This can be done by reading the first file and displaying it, like this:"
   ]
  },
  {
   "cell_type": "code",
   "execution_count": 32,
   "metadata": {
    "collapsed": false
   },
   "outputs": [
    {
     "name": "stdout",
     "output_type": "stream",
     "text": [
      "The name of the file that contains the first message is: 20news-18828//alt.atheism//49960\n",
      "================================\n",
      "From: mathew <mathew@mantis.co.uk>\n",
      "Subject: Alt.Atheism FAQ: Atheist Resources\n",
      "\n",
      "Archive-name: atheism/resources\n",
      "Alt-atheism-archive-name: resources\n",
      "Last-modified: 11 December 1992\n",
      "Version: 1.0\n",
      "\n",
      "                              Atheist Resources\n",
      "\n",
      "                      Addresses of Atheist Organizations\n",
      "\n",
      "                                     USA\n",
      "\n",
      "FREEDOM FROM RELIGION FOUNDATION\n",
      "\n",
      "Darwin fish bumper stickers and assorted other atheist paraphernalia are\n",
      "available from the Freedom From Religion Foundation in the US.\n",
      "\n",
      "Write to:  FFRF, P.O. Box 750, Madison, WI 53701.\n",
      "Telephone: (608) 256-8900\n",
      "\n",
      "EVOLUTION DESIGNS\n",
      "\n",
      "Evolution Designs sell the \"Darwin fish\".  It's a fish symbol, like the ones\n",
      "Christians stick on their cars, but with feet and the word \"Darwin\" written\n",
      "inside.  The deluxe moulded 3D plastic fish is $4.95 postpaid in the US.\n",
      "\n",
      "Write to:  Evolution Designs, 7119 Laurel Canyon #4, North Hollywood,\n",
      "           CA 91605.\n",
      "\n",
      "People in the San Francisco Bay area can get Darwin Fish from Lynn Gold --\n",
      "try mailing <figmo@netcom.com>.  For net people who go to Lynn directly, the\n",
      "price is $4.95 per fish.\n",
      "\n",
      "AMERICAN ATHEIST PRESS\n",
      "\n",
      "AAP publish various atheist books -- critiques of the Bible, lists of\n",
      "Biblical contradictions, and so on.  One such book is:\n",
      "\n",
      "\"The Bible Handbook\" by W.P. Ball and G.W. Foote.  American Atheist Press.\n",
      "372 pp.  ISBN 0-910309-26-4, 2nd edition, 1986.  Bible contradictions,\n",
      "absurdities, atrocities, immoralities... contains Ball, Foote: \"The Bible\n",
      "Contradicts Itself\", AAP.  Based on the King James version of the Bible.\n",
      "\n",
      "Write to:  American Atheist Press, P.O. Box 140195, Austin, TX 78714-0195.\n",
      "      or:  7215 Cameron Road, Austin, TX 78752-2973.\n",
      "Telephone: (512) 458-1244\n",
      "Fax:       (512) 467-9525\n",
      "\n",
      "PROMETHEUS BOOKS\n",
      "\n",
      "Sell books including Haught's \"Holy Horrors\" (see below).\n",
      "\n",
      "Write to:  700 East Amherst Street, Buffalo, New York 14215.\n",
      "Telephone: (716) 837-2475.\n",
      "\n",
      "An alternate address (which may be newer or older) is:\n",
      "Prometheus Books, 59 Glenn Drive, Buffalo, NY 14228-2197.\n",
      "\n",
      "AFRICAN-AMERICANS FOR HUMANISM\n",
      "\n",
      "An organization promoting black secular humanism and uncovering the history of\n",
      "black freethought.  They publish a quarterly newsletter, AAH EXAMINER.\n",
      "\n",
      "Write to:  Norm R. Allen, Jr., African Americans for Humanism, P.O. Box 664,\n",
      "           Buffalo, NY 14226.\n",
      "\n",
      "                                United Kingdom\n",
      "\n",
      "Rationalist Press Association          National Secular Society\n",
      "88 Islington High Street               702 Holloway Road\n",
      "London N1 8EW                          London N19 3NL\n",
      "071 226 7251                           071 272 1266\n",
      "\n",
      "British Humanist Association           South Place Ethical Society\n",
      "14 Lamb's Conduit Passage              Conway Hall\n",
      "London WC1R 4RH                        Red Lion Square\n",
      "071 430 0908                           London WC1R 4RL\n",
      "fax 071 430 1271                       071 831 7723\n",
      "\n",
      "The National Secular Society publish \"The Freethinker\", a monthly magazine\n",
      "founded in 1881.\n",
      "\n",
      "                                   Germany\n",
      "\n",
      "IBKA e.V.\n",
      "Internationaler Bund der Konfessionslosen und Atheisten\n",
      "Postfach 880, D-1000 Berlin 41. Germany.\n",
      "\n",
      "IBKA publish a journal:\n",
      "MIZ. (Materialien und Informationen zur Zeit. Politisches\n",
      "Journal der Konfessionslosesn und Atheisten. Hrsg. IBKA e.V.)\n",
      "MIZ-Vertrieb, Postfach 880, D-1000 Berlin 41. Germany.\n",
      "\n",
      "For atheist books, write to:\n",
      "\n",
      "IBDK, Internationaler B\"ucherdienst der Konfessionslosen\n",
      "Postfach 3005, D-3000 Hannover 1. Germany.\n",
      "Telephone: 0511/211216\n",
      "\n",
      "\n",
      "                               Books -- Fiction\n",
      "\n",
      "THOMAS M. DISCH\n",
      "\n",
      "\"The Santa Claus Compromise\"\n",
      "Short story.  The ultimate proof that Santa exists.  All characters and \n",
      "events are fictitious.  Any similarity to living or dead gods -- uh, well...\n",
      "\n",
      "WALTER M. MILLER, JR\n",
      "\n",
      "\"A Canticle for Leibowitz\"\n",
      "One gem in this post atomic doomsday novel is the monks who spent their lives\n",
      "copying blueprints from \"Saint Leibowitz\", filling the sheets of paper with\n",
      "ink and leaving white lines and letters.\n",
      "\n",
      "EDGAR PANGBORN\n",
      "\n",
      "\"Davy\"\n",
      "Post atomic doomsday novel set in clerical states.  The church, for example,\n",
      "forbids that anyone \"produce, describe or use any substance containing...\n",
      "atoms\". \n",
      "\n",
      "PHILIP K. DICK\n",
      "\n",
      "Philip K. Dick Dick wrote many philosophical and thought-provoking short \n",
      "stories and novels.  His stories are bizarre at times, but very approachable.\n",
      "He wrote mainly SF, but he wrote about people, truth and religion rather than\n",
      "technology.  Although he often believed that he had met some sort of God, he\n",
      "remained sceptical.  Amongst his novels, the following are of some relevance:\n",
      "\n",
      "\"Galactic Pot-Healer\"\n",
      "A fallible alien deity summons a group of Earth craftsmen and women to a\n",
      "remote planet to raise a giant cathedral from beneath the oceans.  When the\n",
      "deity begins to demand faith from the earthers, pot-healer Joe Fernwright is\n",
      "unable to comply.  A polished, ironic and amusing novel.\n",
      "\n",
      "\"A Maze of Death\"\n",
      "Noteworthy for its description of a technology-based religion.\n",
      "\n",
      "\"VALIS\"\n",
      "The schizophrenic hero searches for the hidden mysteries of Gnostic\n",
      "Christianity after reality is fired into his brain by a pink laser beam of\n",
      "unknown but possibly divine origin.  He is accompanied by his dogmatic and\n",
      "dismissively atheist friend and assorted other odd characters.\n",
      "\n",
      "\"The Divine Invasion\"\n",
      "God invades Earth by making a young woman pregnant as she returns from\n",
      "another star system.  Unfortunately she is terminally ill, and must be\n",
      "assisted by a dead man whose brain is wired to 24-hour easy listening music.\n",
      "\n",
      "MARGARET ATWOOD\n",
      "\n",
      "\"The Handmaid's Tale\"\n",
      "A story based on the premise that the US Congress is mysteriously\n",
      "assassinated, and fundamentalists quickly take charge of the nation to set it\n",
      "\"right\" again.  The book is the diary of a woman's life as she tries to live\n",
      "under the new Christian theocracy.  Women's right to own property is revoked,\n",
      "and their bank accounts are closed; sinful luxuries are outlawed, and the\n",
      "radio is only used for readings from the Bible.  Crimes are punished\n",
      "retroactively: doctors who performed legal abortions in the \"old world\" are\n",
      "hunted down and hanged.  Atwood's writing style is difficult to get used to\n",
      "at first, but the tale grows more and more chilling as it goes on.\n",
      "\n",
      "VARIOUS AUTHORS\n",
      "\n",
      "\"The Bible\"\n",
      "This somewhat dull and rambling work has often been criticized.  However, it\n",
      "is probably worth reading, if only so that you'll know what all the fuss is\n",
      "about.  It exists in many different versions, so make sure you get the one\n",
      "true version.\n",
      "\n",
      "                             Books -- Non-fiction\n",
      "\n",
      "PETER DE ROSA\n",
      "\n",
      "\"Vicars of Christ\", Bantam Press, 1988\n",
      "Although de Rosa seems to be Christian or even Catholic this is a very\n",
      "enlighting history of papal immoralities, adulteries, fallacies etc.\n",
      "(German translation: \"Gottes erste Diener. Die dunkle Seite des Papsttums\",\n",
      "Droemer-Knaur, 1989)\n",
      "\n",
      "MICHAEL MARTIN\n",
      "\n",
      "\"Atheism: A Philosophical Justification\", Temple University Press,\n",
      " Philadelphia, USA.\n",
      "A detailed and scholarly justification of atheism.  Contains an outstanding\n",
      "appendix defining terminology and usage in this (necessarily) tendentious\n",
      "area.  Argues both for \"negative atheism\" (i.e. the \"non-belief in the\n",
      "existence of god(s)\") and also for \"positive atheism\" (\"the belief in the\n",
      "non-existence of god(s)\").  Includes great refutations of the most\n",
      "challenging arguments for god; particular attention is paid to refuting\n",
      "contempory theists such as Platinga and Swinburne.\n",
      "541 pages. ISBN 0-87722-642-3 (hardcover; paperback also available)\n",
      "\n",
      "\"The Case Against Christianity\", Temple University Press\n",
      "A comprehensive critique of Christianity, in which he considers\n",
      "the best contemporary defences of Christianity and (ultimately)\n",
      "demonstrates that they are unsupportable and/or incoherent.\n",
      "273 pages. ISBN 0-87722-767-5\n",
      "\n",
      "JAMES TURNER\n",
      "\n",
      "\"Without God, Without Creed\", The Johns Hopkins University Press, Baltimore,\n",
      " MD, USA\n",
      "Subtitled \"The Origins of Unbelief in America\".  Examines the way in which\n",
      "unbelief (whether agnostic or atheistic)  became a mainstream alternative\n",
      "world-view.  Focusses on the period 1770-1900, and while considering France\n",
      "and Britain the emphasis is on American, and particularly New England\n",
      "developments.  \"Neither a religious history of secularization or atheism,\n",
      "Without God, Without Creed is, rather, the intellectual history of the fate\n",
      "of a single idea, the belief that God exists.\" \n",
      "316 pages. ISBN (hardcover) 0-8018-2494-X (paper) 0-8018-3407-4\n",
      "\n",
      "GEORGE SELDES (Editor)\n",
      "\n",
      "\"The great thoughts\", Ballantine Books, New York, USA\n",
      "A \"dictionary of quotations\" of a different kind, concentrating on statements\n",
      "and writings which, explicitly or implicitly, present the person's philosophy\n",
      "and world-view.  Includes obscure (and often suppressed) opinions from many\n",
      "people.  For some popular observations, traces the way in which various\n",
      "people expressed and twisted the idea over the centuries.  Quite a number of\n",
      "the quotations are derived from Cardiff's \"What Great Men Think of Religion\"\n",
      "and Noyes' \"Views of Religion\".\n",
      "490 pages. ISBN (paper) 0-345-29887-X.\n",
      "\n",
      "RICHARD SWINBURNE\n",
      "\n",
      "\"The Existence of God (Revised Edition)\", Clarendon Paperbacks, Oxford\n",
      "This book is the second volume in a trilogy that began with \"The Coherence of\n",
      "Theism\" (1977) and was concluded with \"Faith and Reason\" (1981).  In this\n",
      "work, Swinburne attempts to construct a series of inductive arguments for the\n",
      "existence of God.  His arguments, which are somewhat tendentious and rely\n",
      "upon the imputation of late 20th century western Christian values and\n",
      "aesthetics to a God which is supposedly as simple as can be conceived, were\n",
      "decisively rejected in Mackie's \"The Miracle of Theism\".  In the revised\n",
      "edition of \"The Existence of God\", Swinburne includes an Appendix in which he\n",
      "makes a somewhat incoherent attempt to rebut Mackie.\n",
      "\n",
      "J. L. MACKIE\n",
      "\n",
      "\"The Miracle of Theism\", Oxford\n",
      "This (posthumous) volume contains a comprehensive review of the principal\n",
      "arguments for and against the existence of God.  It ranges from the classical\n",
      "philosophical positions of Descartes, Anselm, Berkeley, Hume et al, through\n",
      "the moral arguments of Newman, Kant and Sidgwick, to the recent restatements\n",
      "of the classical theses by Plantinga and Swinburne.  It also addresses those\n",
      "positions which push the concept of God beyond the realm of the rational,\n",
      "such as those of Kierkegaard, Kung and Philips, as well as \"replacements for\n",
      "God\" such as Lelie's axiarchism.  The book is a delight to read - less\n",
      "formalistic and better written than Martin's works, and refreshingly direct\n",
      "when compared with the hand-waving of Swinburne.\n",
      "\n",
      "JAMES A. HAUGHT\n",
      "\n",
      "\"Holy Horrors: An Illustrated History of Religious Murder and Madness\",\n",
      " Prometheus Books\n",
      "Looks at religious persecution from ancient times to the present day -- and\n",
      "not only by Christians.\n",
      "Library of Congress Catalog Card Number 89-64079. 1990.\n",
      "\n",
      "NORM R. ALLEN, JR.\n",
      "\n",
      "\"African American Humanism: an Anthology\"\n",
      "See the listing for African Americans for Humanism above.\n",
      "\n",
      "GORDON STEIN\n",
      "\n",
      "\"An Anthology of Atheism and Rationalism\", Prometheus Books\n",
      "An anthology covering a wide range of subjects, including 'The Devil, Evil\n",
      "and Morality' and 'The History of Freethought'.  Comprehensive bibliography.\n",
      "\n",
      "EDMUND D. COHEN\n",
      "\n",
      "\"The Mind of The Bible-Believer\", Prometheus Books\n",
      "A study of why people become Christian fundamentalists, and what effect it\n",
      "has on them.\n",
      "\n",
      "                                Net Resources\n",
      "\n",
      "There's a small mail-based archive server at mantis.co.uk which carries\n",
      "archives of old alt.atheism.moderated articles and assorted other files.  For\n",
      "more information, send mail to archive-server@mantis.co.uk saying\n",
      "\n",
      "   help\n",
      "   send atheism/index\n",
      "\n",
      "and it will mail back a reply.\n",
      "\n",
      "\n",
      "mathew\n",
      "�\n",
      "\n"
     ]
    }
   ],
   "source": [
    "fileName = prefix+\"alt.atheism\\\\\"+\"49960\"\n",
    "print \"The name of the file that contains the first message is: {}\".format(fileName)\n",
    "print \"================================\"\n",
    "\n",
    "# Now, we open the file for reading\n",
    "myFile = open(fileName, \"r\")\n",
    "# and it's read whole.\n",
    "firstMessage = myFile.read()\n",
    "myFile.close() # The file is no longer needed, so it is closed\n",
    "print(firstMessage)"
   ]
  },
  {
   "cell_type": "markdown",
   "metadata": {},
   "source": [
    "Now it's your turn: read and print the **second** message of newsgroup *comp.graphics* by filling in the gaps."
   ]
  },
  {
   "cell_type": "code",
   "execution_count": 33,
   "metadata": {
    "collapsed": false
   },
   "outputs": [
    {
     "name": "stdout",
     "output_type": "stream",
     "text": [
      "The name of the file that contains the first message is: 20news-18828//comp.graphics//37913\n",
      "================================\n",
      "From: weston@ucssun1.sdsu.edu (weston t)\n",
      "Subject: graphical representation of vector-valued functions\n",
      "\n",
      "gnuplot, etc. make it easy to plot real valued functions of 2 variables\n",
      "but I want to plot functions whose values are 2-vectors. I have been \n",
      "doing this by plotting arrays of arrows (complete with arrowheads) but\n",
      "before going further, I thought I would ask whether someone has already\n",
      "done the work. Any pointers??\n",
      "\n",
      "thanx in advance\n",
      "\n",
      "\n",
      "Tom Weston                    | USENET: weston@ucssun1.sdsu.edu\n",
      "Department of Philosophy      | (619) 594-6218 (office)\n",
      "San Diego State Univ.         | (619) 575-7477 (home)\n",
      "San Diego, CA 92182-0303      | \n",
      "\n"
     ]
    }
   ],
   "source": [
    "fileNames = os.listdir(prefix+\"comp.graphics\\\\\")\n",
    "fileName = prefix+\"comp.graphics\\\\\"+\"37913\"\n",
    "print \"The name of the file that contains the first message is: {}\".format(fileName)\n",
    "print \"================================\"\n",
    "\n",
    "# Now, we open the file for reading\n",
    "myFile = open(fileName, \"r\")\n",
    "# and it's read whole.\n",
    "firstMessage = myFile.read()\n",
    "myFile.close() # The file is no longer needed, so it is closed\n",
    "print(firstMessage)"
   ]
  },
  {
   "cell_type": "markdown",
   "metadata": {},
   "source": [
    "Now, we are going to read the first two messages from newsgroup *alt.atheism* and the first two messages from *comp.graphics*. But first, let's define a function that reads messages, in order to save ourselves some typing."
   ]
  },
  {
   "cell_type": "code",
   "execution_count": 34,
   "metadata": {
    "collapsed": false
   },
   "outputs": [],
   "source": [
    "def readMessage(fileName):\n",
    "    # Now, we open the file for reading\n",
    "    myFile = open(fileName, \"r\")\n",
    "    # and it's read whole.\n",
    "    message = myFile.read()\n",
    "    myFile.close() # The file is no longer needed, so it is closed    \n",
    "    return(message)"
   ]
  },
  {
   "cell_type": "markdown",
   "metadata": {},
   "source": [
    "Let's use function *readMessage* to read two messages from *alt.atheism*"
   ]
  },
  {
   "cell_type": "code",
   "execution_count": 35,
   "metadata": {
    "collapsed": false
   },
   "outputs": [
    {
     "name": "stdout",
     "output_type": "stream",
     "text": [
      "We have read 2 messages\n",
      "==================================================\n",
      "The first message starts with these words:\n",
      "From: mathew <mathew@mantis.co.uk>\n",
      "Subject: Alt.Atheism FAQ: Atheist Resources\n",
      "\n",
      "Archive-name: atheism/resources\n",
      "Alt-atheism-archive-name: resources\n",
      "Last-modified: 11 December 1992\n",
      "Version: 1.0\n",
      "\n",
      "      \n",
      "==================================================\n",
      "And the second message starts with these words:\n",
      "From: mathew <mathew@mantis.co.uk>\n",
      "Subject: Alt.Atheism FAQ: Introduction to Atheism\n",
      "\n",
      "Archive-name: atheism/introduction\n",
      "Alt-atheism-archive-name: introduction\n",
      "Last-modified: 5 April 1993\n",
      "Version: 1.2\n"
     ]
    }
   ],
   "source": [
    "group = \"alt.atheism\\\\\"\n",
    "# Files contains the list of files (messages) of newsgroup alt.atheism\n",
    "files = os.listdir(prefix+group)\n",
    "\n",
    "# Let's read the first two messages\n",
    "\n",
    "message1_aa = readMessage(prefix+group+files[0])\n",
    "message2_aa = readMessage(prefix+group+files[1])\n",
    "\n",
    "# Let's put them into a list:\n",
    "\n",
    "messages_aa = [message1_aa, message2_aa]\n",
    "\n",
    "print \"We have read {} messages\".format(len(messages_aa))\n",
    "print \"==================================================\"\n",
    "print \"The first message starts with these words:\\n{}\".format(messages_aa[0][0:200])\n",
    "print \"==================================================\"\n",
    "print \"And the second message starts with these words:\\n{}\".format(messages_aa[1][0:200])"
   ]
  },
  {
   "cell_type": "markdown",
   "metadata": {},
   "source": [
    "Now, read a third message and *append* it into list *messages_aa*. Use the *apend* function"
   ]
  },
  {
   "cell_type": "code",
   "execution_count": 36,
   "metadata": {
    "collapsed": false
   },
   "outputs": [
    {
     "name": "stdout",
     "output_type": "stream",
     "text": [
      "3\n"
     ]
    }
   ],
   "source": [
    "message3_aa = readMessage(prefix+group+files[2])\n",
    "messages_aa.append(message3_aa)\n",
    "print(len(messages_aa))"
   ]
  },
  {
   "cell_type": "markdown",
   "metadata": {},
   "source": [
    "We can do even better by using a loop to read the n first messages"
   ]
  },
  {
   "cell_type": "code",
   "execution_count": 37,
   "metadata": {
    "collapsed": false
   },
   "outputs": [
    {
     "name": "stdout",
     "output_type": "stream",
     "text": [
      "We have read 5 messages\n"
     ]
    }
   ],
   "source": [
    "group = \"alt.atheism\\\\\"\n",
    "files = os.listdir(prefix+group)\n",
    "\n",
    "messages_aa = [] # Initially, we have no read any message (empty list)\n",
    "# Let's read 5 messages (but it could be any number)\n",
    "for myFile in files[:5]:\n",
    "    messages_aa.append(readMessage(prefix+group+myFile))\n",
    "print \"We have read {} messages\".format(len(messages_aa))  "
   ]
  },
  {
   "cell_type": "markdown",
   "metadata": {},
   "source": [
    "Now, use the previous code in order to read 4 messages from newsgroup *comp.graphics*"
   ]
  },
  {
   "cell_type": "code",
   "execution_count": 38,
   "metadata": {
    "collapsed": false
   },
   "outputs": [
    {
     "name": "stdout",
     "output_type": "stream",
     "text": [
      "We have read 4 messages from comp.graphics//\n"
     ]
    }
   ],
   "source": [
    "group = \"comp.graphics\\\\\"\n",
    "files = os.listdir(prefix+group)\n",
    "\n",
    "messages_cg = [] # Initially, we have no read any message (empty list)\n",
    "# Let's read 5 messages (but it could be any number)\n",
    "for myFile in files[:4]:\n",
    "    messages_cg.append(readMessage(prefix+group+myFile))\n",
    "print \"We have read {} messages from {}\".format(len(messages_cg), group)  "
   ]
  },
  {
   "cell_type": "markdown",
   "metadata": {},
   "source": [
    "Next step: let's decompose each message into words. We can do this by means of *split*. Let's see an example. Also, there are a couple of problems. What happens with words **remember** and **racing**?"
   ]
  },
  {
   "cell_type": "code",
   "execution_count": 39,
   "metadata": {
    "collapsed": false
   },
   "outputs": [
    {
     "name": "stdout",
     "output_type": "stream",
     "text": [
      "Somewhere in la Mancha, in a place whose name I do not care to remember, a gentleman lived not long ago, one of those who has a lance and ancient shield on a shelf and keeps a skinny nag and a greyhound for racing.\n",
      "\n",
      "The list of words is:\n",
      "['Somewhere', 'in', 'la', 'Mancha,', 'in', 'a', 'place', 'whose', 'name', 'I', 'do', 'not', 'care', 'to', 'remember,', 'a', 'gentleman', 'lived', 'not', 'long', 'ago,', 'one', 'of', 'those', 'who', 'has', 'a', 'lance', 'and', 'ancient', 'shield', 'on', 'a', 'shelf', 'and', 'keeps', 'a', 'skinny', 'nag', 'and', 'a', 'greyhound', 'for', 'racing.']\n"
     ]
    }
   ],
   "source": [
    "myMessage =  \"Somewhere in la Mancha, in a place whose name I do not care to remember, a gentleman lived not long ago, one of those who has a lance and ancient shield on a shelf and keeps a skinny nag and a greyhound for racing.\" \n",
    "print(myMessage)\n",
    "print(\"\")\n",
    "words = myMessage.split()\n",
    "print \"The list of words is:\\n{}\".format(words)"
   ]
  },
  {
   "cell_type": "markdown",
   "metadata": {},
   "source": [
    "A way of fixing the problem of separators like \",\" and \".\" is to substitute them by spaces (\" \"), so that there is only one delimiter (space). We can use *replace* for this. Try to understand the following code. Do we get the correct list of words now (i.e. do **remember** and **racing** look right now?)?"
   ]
  },
  {
   "cell_type": "code",
   "execution_count": 40,
   "metadata": {
    "collapsed": false
   },
   "outputs": [
    {
     "name": "stdout",
     "output_type": "stream",
     "text": [
      "Somewhere in la Mancha, in a place whose name I do not care to remember, a gentleman lived not long ago, one of those who has a lance and ancient shield on a shelf and keeps a skinny nag and a greyhound for racing.\n",
      "\n",
      "The list of words is:\n",
      "['Somewhere', 'in', 'la', 'Mancha', 'in', 'a', 'place', 'whose', 'name', 'I', 'do', 'not', 'care', 'to', 'remember', 'a', 'gentleman', 'lived', 'not', 'long', 'ago', 'one', 'of', 'those', 'who', 'has', 'a', 'lance', 'and', 'ancient', 'shield', 'on', 'a', 'shelf', 'and', 'keeps', 'a', 'skinny', 'nag', 'and', 'a', 'greyhound', 'for', 'racing']\n"
     ]
    }
   ],
   "source": [
    "myMessage =  \"Somewhere in la Mancha, in a place whose name I do not care to remember, a gentleman lived not long ago, one of those who has a lance and ancient shield on a shelf and keeps a skinny nag and a greyhound for racing.\" \n",
    "print(myMessage)\n",
    "print(\"\")\n",
    "myMessage = myMessage.replace(\",\", \" \")\n",
    "myMessage = myMessage.replace(\".\", \" \")\n",
    "\n",
    "words = myMessage.split()\n",
    "print \"The list of words is:\\n{}\".format(words)"
   ]
  },
  {
   "cell_type": "markdown",
   "metadata": {},
   "source": [
    "Now, we could do the same for the three messages of *alt.atheism* which are contained in list *messages_aa*. Try to understand this code."
   ]
  },
  {
   "cell_type": "code",
   "execution_count": 41,
   "metadata": {
    "collapsed": false
   },
   "outputs": [
    {
     "name": "stdout",
     "output_type": "stream",
     "text": [
      "==================================================\n",
      "We can check what happenned to the first 20 words of the first message:\n",
      "['From:', 'mathew', '<mathew@mantis', 'co', 'uk>', 'Subject:', 'Alt', 'Atheism', 'FAQ:', 'Atheist', 'Resources', 'Archive-name:', 'atheism/resources', 'Alt-atheism-archive-name:', 'resources', 'Last-modified:', '11', 'December', '1992', 'Version:', '1', '0', 'Atheist', 'Resources', 'Addresses', 'of', 'Atheist', 'Organizations', 'USA', 'FREEDOM', 'FROM', 'RELIGION', 'FOUNDATION', 'Darwin', 'fish', 'bumper', 'stickers', 'and', 'assorted', 'other', 'atheist', 'paraphernalia', 'are', 'available', 'from', 'the', 'Freedom', 'From', 'Religion', 'Foundation']\n",
      "==================================================\n"
     ]
    }
   ],
   "source": [
    "# First, let's make a copy of the original list \"messages_aa\", \n",
    "# so that messages_aa is not modified and we can use it later unchanged\n",
    "\n",
    "import copy\n",
    "messages_aa_copy = copy.deepcopy(messages_aa)\n",
    "\n",
    "# Now, we will modify messages_aa_copy and remove , and . from them\n",
    "# Let's remove \",\" and \".\" from the first message\n",
    "messages_aa_copy[0] = messages_aa_copy[0].replace(\",\", \" \")\n",
    "messages_aa_copy[0] = messages_aa_copy[0].replace(\".\", \" \")\n",
    "messages_aa_copy[0] = messages_aa_copy[0].split()\n",
    "\n",
    "# Same for the second message\n",
    "messages_aa_copy[1] = messages_aa_copy[1].replace(\",\", \" \")\n",
    "messages_aa_copy[1] = messages_aa_copy[1].replace(\".\", \" \")\n",
    "messages_aa_copy[1] = messages_aa_copy[1].split()\n",
    "\n",
    "# Same for the third message\n",
    "messages_aa_copy[2] = messages_aa_copy[2].replace(\",\", \" \")\n",
    "messages_aa_copy[2] = messages_aa_copy[2].replace(\".\", \" \")\n",
    "messages_aa_copy[2] = messages_aa_copy[2].split()\n",
    "\n",
    "\n",
    "print \"==================================================\"\n",
    "print \"We can check what happenned to the first 20 words of the first message:\"\n",
    "print(messages_aa_copy[0][0:50]) \n",
    "print \"==================================================\""
   ]
  },
  {
   "cell_type": "markdown",
   "metadata": {},
   "source": [
    "But using the above code for every message is rather tedious, specially if there are many messages. Please, try to improve the above code by using a **for** loop. Reminder: range(3) == [0, 1, 2]. Please, use variable **messages_aa** that contains a list with the three messages."
   ]
  },
  {
   "cell_type": "code",
   "execution_count": 42,
   "metadata": {
    "collapsed": false
   },
   "outputs": [
    {
     "name": "stdout",
     "output_type": "stream",
     "text": [
      "==================================================\n",
      "We can check what happened to the first 50 words of the first message:\n",
      "['From:', 'mathew', '<mathew@mantis', 'co', 'uk>', 'Subject:', 'Alt', 'Atheism', 'FAQ:', 'Atheist', 'Resources', 'Archive-name:', 'atheism/resources', 'Alt-atheism-archive-name:', 'resources', 'Last-modified:', '11', 'December', '1992', 'Version:', '1', '0', 'Atheist', 'Resources', 'Addresses', 'of', 'Atheist', 'Organizations', 'USA', 'FREEDOM', 'FROM', 'RELIGION', 'FOUNDATION', 'Darwin', 'fish', 'bumper', 'stickers', 'and', 'assorted', 'other', 'atheist', 'paraphernalia', 'are', 'available', 'from', 'the', 'Freedom', 'From', 'Religion', 'Foundation']\n",
      "==================================================\n"
     ]
    }
   ],
   "source": [
    "# len(messages_aa) is the number of elements in the list (i.e. the number of messages, \n",
    "# 3 in this case)\n",
    "for messageNumber in range(len(messages_aa)):\n",
    "    messages_aa[messageNumber] = messages_aa[messageNumber].replace(\",\", \" \")\n",
    "    messages_aa[messageNumber] = messages_aa[messageNumber].replace(\".\", \" \")\n",
    "    messages_aa[messageNumber] = messages_aa[messageNumber].split()\n",
    "    \n",
    "    \n",
    "print \"==================================================\"\n",
    "print \"We can check what happened to the first 50 words of the first message:\"\n",
    "print(messages_aa[0][0:50]) \n",
    "print \"==================================================\""
   ]
  },
  {
   "cell_type": "markdown",
   "metadata": {},
   "source": [
    "Finally, we are going to compute the frequency of each word for every message. We will first count the words, and then divide by the total number of words in order to get the frequency. In order to save you some work, the function *createDictionary* is provided to you."
   ]
  },
  {
   "cell_type": "code",
   "execution_count": 43,
   "metadata": {
    "collapsed": true
   },
   "outputs": [],
   "source": [
    "def createDictionary(words):\n",
    "    d = {}\n",
    "    for word in words:\n",
    "        if word in d:\n",
    "            d[word] = d[word] + 1\n",
    "        else:\n",
    "            d[word] = 1\n",
    "    return(d)"
   ]
  },
  {
   "cell_type": "markdown",
   "metadata": {},
   "source": [
    "Let's see how *createDictionary* works. Please, notice that the dictionary is a list of pairs (key, count), where count is the number of times each word (key) appears in the sentence."
   ]
  },
  {
   "cell_type": "code",
   "execution_count": 44,
   "metadata": {
    "collapsed": false
   },
   "outputs": [
    {
     "name": "stdout",
     "output_type": "stream",
     "text": [
      "Somewhere in la Mancha, in a place whose name I do not care to remember, a gentleman lived not long ago, one of those who has a lance and ancient shield on a shelf and keeps a skinny nag and a greyhound for racing.\n",
      "\n",
      "{'and': 3, 'ago': 1, 'Somewhere': 1, 'greyhound': 1, 'one': 1, 'in': 2, 'shield': 1, 'Mancha': 1, 'whose': 1, 'ancient': 1, 'nag': 1, 'for': 1, 'la': 1, 'gentleman': 1, 'long': 1, 'name': 1, 'to': 1, 'has': 1, 'racing': 1, 'lance': 1, 'do': 1, 'lived': 1, 'I': 1, 'shelf': 1, 'who': 1, 'not': 2, 'those': 1, 'care': 1, 'a': 6, 'on': 1, 'remember': 1, 'of': 1, 'place': 1, 'keeps': 1, 'skinny': 1}\n"
     ]
    }
   ],
   "source": [
    "myMessage =  \"Somewhere in la Mancha, in a place whose name I do not care to remember, a gentleman lived not long ago, one of those who has a lance and ancient shield on a shelf and keeps a skinny nag and a greyhound for racing.\" \n",
    "print(myMessage)\n",
    "print(\"\")\n",
    "myMessage = myMessage.replace(\",\", \" \")\n",
    "myMessage = myMessage.replace(\".\", \" \")\n",
    "words = myMessage.split()\n",
    "\n",
    "# Here, we create a dictionary with the count of words\n",
    "myDictionary = createDictionary(words)\n",
    "print(myDictionary)"
   ]
  },
  {
   "cell_type": "markdown",
   "metadata": {},
   "source": [
    "In order to compute the frequency, we need to divide each count by the total number of words in the message. Reminder: function *len* computes the number of elements in a list. We will multiply by 100 in order to compute percentages. Something like this: "
   ]
  },
  {
   "cell_type": "code",
   "execution_count": 45,
   "metadata": {
    "collapsed": false
   },
   "outputs": [
    {
     "name": "stdout",
     "output_type": "stream",
     "text": [
      "{'and': 8, 'ago': 2, 'Somewhere': 2, 'greyhound': 2, 'one': 2, 'in': 5, 'shield': 2, 'Mancha': 2, 'whose': 2, 'ancient': 2, 'nag': 2, 'for': 2, 'la': 2, 'gentleman': 2, 'long': 2, 'name': 2, 'to': 2, 'has': 2, 'racing': 2, 'lance': 2, 'do': 2, 'lived': 2, 'I': 2, 'shelf': 2, 'who': 2, 'not': 5, 'those': 2, 'care': 2, 'a': 17, 'on': 2, 'remember': 2, 'of': 2, 'place': 2, 'keeps': 2, 'skinny': 2}\n"
     ]
    }
   ],
   "source": [
    "for word in myDictionary:\n",
    "    myDictionary[word] = 100*myDictionary[word]/len(myDictionary)\n",
    "    \n",
    "print(myDictionary)    "
   ]
  },
  {
   "cell_type": "markdown",
   "metadata": {},
   "source": [
    "Finally, compute a similar dictionary, but for the **first** message of messages_aa."
   ]
  },
  {
   "cell_type": "code",
   "execution_count": 48,
   "metadata": {
    "collapsed": false
   },
   "outputs": [
    {
     "name": "stdout",
     "output_type": "stream",
     "text": [
      "{'Sell': 0, 'all': 0, 'writings': 0, 'Based': 0, 'translation:': 0, 'similarity': 0, 'both': 0, 'Horrors\"': 0, 'founded': 0, 'concept': 0, 'legal': 0, 'Horrors:': 0, 'go': 0, 'alt': 0, '(whether': 0, 'Telephone:': 0, '(which': 0, 'luxuries': 0, 'suppressed)': 0, 'Foundation': 0, 'supposedly': 0, 'number': 0, 'Subtitled': 0, 'Claus': 0, 'young': 0, 'Evil': 0, 'to': 2, 'charge': 0, 'promoting': 0, 'those': 0, 'sceptical': 0, 'quarterly': 0, 'moderated': 0, 'must': 0, 'worth': 0, 'resources': 0, 'theists': 0, 'fax': 0, 'woman': 0, 'mainstream': 0, 'very': 0, 'implicitly': 0, 'oceans': 0, 'contemporary': 0, 'P': 0, '\"Galactic': 0, 'diary': 0, 'JR': 0, \"Freethought'\": 0, 'D': 0, '14215': 0, 'alien': 0, 'Bible-Believer\"': 0, 'incoherent': 0, '--': 0, 'positions': 0, 'attempts': 0, 'try': 0, 'Contradicts': 0, 'Compromise\"': 0, 'AUTHORS': 0, 'small': 0, '20th': 0, 'concluded': 0, 'EVOLUTION': 0, '\"Darwin\"': 0, 'century': 0, 'invades': 0, '\"positive': 0, 'FFRF': 0, 'Coherence': 0, 'direct': 0, 'Number': 0, '272': 0, '273': 0, 'Postfach': 0, 'Maze': 0, 'East': 0, 'odd': 0, 'Christ\"': 0, 'Red': 0, '3D': 0, 'even': 0, 'what': 0, '\"Darwin': 0, 'FAQ:': 0, 'religious': 0, 'assisted': 0, 'HUMANISM': 0, 'expressed': 0, 'This': 0, 'version': 0, 'goes': 0, 'B\"ucherdienst': 0, 'new': 0, 'net': 0, 'University': 0, 'Short': 0, 'hero': 0, 'whose': 0, 'Freedom': 0, 'K': 0, 'Think': 0, 'EDGAR': 0, 'HAUGHT': 0, 'ranges': 0, 'met': 0, 'them': 0, '24-hour': 0, 'address': 0, '\"An': 0, 'Anthology\"': 0, 'world-view': 0, 'MD': 0, 'great': 0, 'substance': 0, '0-8018-2494-X': 0, 'study': 0, 'Crimes': 0, '(see': 0, 'through': 0, 'leaving': 0, '89-64079': 0, 'atoms\"': 0, 'proof': 0, 'makes': 0, 'Papsttums\"': 0, '430': 0, 'Devil': 0, 'god(s)\")': 0, \"It's\": 0, 'When': 0, '(1981)': 0, 'summons': 0, \"Noyes'\": 0, 'contradictions': 0, 'send': 0, '\"The': 1, '0-345-29887-X': 0, 'America\"': 0, 'challenging': 0, 'use': 0, 'from': 1, '0': 0, '(posthumous)': 0, 'inductive': 0, 'contains': 0, '0908': 0, 'papal': 0, 'live': 0, 'explicitly': 0, 'music': 0, 'archives': 0, 'God\"': 0, 'Plantinga': 0, 'terminally': 0, 'sort': 0, 'faith': 0, 'under': 0, 'about': 0, 'mathew': 0, 'American': 0, 'appendix': 0, 'VARIOUS': 0, 'stick': 0, 'V': 0, 'earthers': 0, '95': 0, 'moulded': 0, 'women': 0, '1990': 0, '1992': 0, 'word': 0, 'this': 0, 'der': 0, 'work': 0, 'Library': 0, '(Editor)': 0, 'values': 0, 'can': 0, 'of': 5, 'believed': 0, 'making': 0, 'example': 0, 'history': 0, \"Lelie's\": 0, 'Islington': 0, \"woman's\": 0, '\"old': 0, 'Contains': 0, 'states': 0, 'journal:': 0, 'SELDES': 0, 'mail-based': 0, 'subjects': 0, 'Norm': 0, 'Hume': 0, 'pink': 0, 'information': 0, '\"Neither': 0, 'Mind': 0, 'rather': 0, 'technology': 0, 'Journal': 0, 'Lion': 0, 'write': 0, 'Prometheus': 0, 'trilogy': 0, 'mysteries': 0, 'if': 0, '\"What': 0, 'Examines': 0, 'Looks': 0, 'A': 0, 'alternative': 0, 'EXAMINER': 0, \"Atwood's\": 0, 'may': 0, '1271': 0, 'after': 0, 'derived': 0, 'different': 0, 'British': 0, 'outlawed': 0, '0511/211216': 0, 'such': 0, 'concentrating': 0, '1881': 0, 'man': 0, 'a': 2, 'All': 0, 'short': 0, 'attempt': 0, 'lines': 0, 'One': 0, 'tale': 0, 'tendentious': 0, '(\"the': 0, 'fictitious': 0, 'so': 0, 'ultimate': 0, '0-8018-3407-4': 0, '78752-2973': 0, 'Alt': 0, 'quotations': 0, '(512)': 0, 'began': 0, 'anyone': 0, 'Bantam': 0, \"Mackie's\": 0, 'help': 0, 'Johns': 0, 'below)': 0, 'mainly': 0, 'brain': 0, 'MIZ': 0, 'including': 0, 'polished': 0, 'deity': 0, '490': 0, 'its': 0, '1': 0, 'style': 0, 'His': 0, 'group': 0, 'closed;': 0, \"Women's\": 0, 'world\"': 0, 'comply': 0, 'MARTIN': 0, '\"Atheism:': 0, 'mail': 0, 'Itself\"': 0, 'defining': 0, '(716)': 0, 'FOUNDATION': 0, 'Evolution': 0, 'Platinga': 0, '1770-1900': 0, 'L': 0, 'Bay': 0, 'Foote': 0, 'they': 0, 'not': 0, 'hunted': 0, 'day': 0, 'bank': 0, 'Ethical': 0, 'blueprints': 0, 'San': 0, 'Noteworthy': 0, 'Gnostic': 0, 'Seite': 0, 'listing': 0, 'covering': 0, 'ROSA': 0, 'grows': 0, 'uncovering': 0, 'filling': 0, 'BOOKS': 0, 'technology-based': 0, 'truth': 0, 'dogmatic': 0, 'accompanied': 0, 'beneath': 0, '372': 0, 'traces': 0, 'Humanism:': 0, 'Last-modified:': 0, 'Philips': 0, 'From': 0, 'fired': 0, 'series': 0, 'fish': 0, 'revised': 0, '700': 0, 'monks': 0, '702': 0, '88': 0, 'books': 0, 'hanged': 0, 'Unbelief': 0, 'defences': 0, 'cathedral': 0, 'beyond': 0, 'description': 0, 'is:': 0, 'unsupportable': 0, '458-1244': 0, 'publish': 0, 'rational': 0, 'Joe': 0, 'Internationaler': 0, 'Focusses': 0, 'PRESS': 0, 'Holloway': 0, '(hardcover;': 0, 'philosophy': 0, 'belief': 0, 'G': 0, 'DISCH': 0, 'cars': 0, 'sinful': 0, 'rely': 0, '(hardcover)': 0, 'ancient': 0, 'adulteries': 0, 'freethought': 0, 'W': 0, 'which': 0, 'Buffalo': 0, 'forbids': 0, 'People': 0, '<mathew@mantis': 0, 'National': 0, 'N19': 0, 'tries': 0, 'used': 0, 'times': 0, 'AMERICAN': 0, 'NORM': 0, 'bumper': 0, 'dismissively': 0, 'first': 0, 'origin': 0, 'Rationalist': 0, 'pot-healer': 0, 'Hrsg': 0, 'Bund': 0, 'MIZ-Vertrieb': 0, 'dull': 0, 'paperback': 0, 'one': 0, 'feet': 0, 'philosophical': 0, 'directly': 0, 'Hollywood': 0, 'plastic': 0, 'idea': 0, 'Conduit': 0, 'story': 0, '\"': 0, 'North': 0, 'exists': 0, 'Congress': 0, 'unknown': 0, 'mysteriously': 0, 'system': 0, 'construct': 0, 'Konfessionslosen': 0, 'doomsday': 0, 'their': 0, 'returns': 0, \"Cardiff's\": 0, 'observations': 0, 'Leibowitz\"': 0, 'Press': 0, 'white': 0, 'remote': 0, 'Association': 0, 'that': 0, 'et': 0, '\"Saint': 0, 'lists': 0, 'approachable': 0, 'R': 0, 'western': 0, 'somewhat': 0, 'doctors': 0, '$4': 0, 'France': 0, 'Post': 0, 'Road': 0, 'History': 0, 'to:': 0, 'uk>': 0, 'kind': 0, '14': 0, '7215': 0, 'imputation': 0, 'Canyon': 0, 'Theism\"': 0, 'friend': 0, 'were': 0, 'Paperbacks': 0, 'atheistic)': 0, 'theocracy': 0, 'and': 5, '880': 0, 'ISBN': 0, 'remained': 0, 'MILLER': 0, 'DE': 0, 'contempory': 0, 'AAH': 0, 'It': 0, 'Hannover': 0, 'AAP': 0, 'refreshingly': 0, '\"Without': 0, 'any': 0, 'sell': 0, '\"Faith': 0, '(1977)': 0, 'Christian': 0, '\"negative': 0, 'available)': 0, '-': 0, 'theses': 0, 'God': 1, 'also': 0, 'emphasis': 0, 'Appendix': 0, 'Germany': 0, 'amusing': 0, 'Santa': 0, '0-87722-642-3': 0, 'Hall': 0, 'retroactively:': 0, '\"Davy\"': 0, 'Lynn': 0, 'sure': 0, 'price': 0, 'who': 0, 'M': 0, 'PANGBORN': 0, 'paid': 0, 'most': 0, 'Without': 0, 'rejected': 0, 'sheets': 0, 'Existence': 0, 'Justification\"': 0, 'The': 0, 'pages': 0, 'restatements': 0, 'Mackie': 0, 'Descartes': 0, 'FROM': 0, 'D-3000': 0, 'Philadelphia': 0, 'Freethinker\"': 0, '2nd': 0, \"you'll\": 0, '0-87722-767-5': 0, 'Bible\"': 0, 'Earth': 0, 'mailing': 0, 'WC1R': 0, 'saying': 0, 'particularly': 0, '\"African': 0, 'rambling': 0, 'Catholic': 0, 'Baltimore': 0, 'ATHEIST': 0, 'Edition)\"': 0, '664': 0, '1266': 0, 'WI': 0, 'Religion': 0, 'PROMETHEUS': 0, 'radio': 0, 'N1': 0, 'range': 0, 'Argues': 0, 'Resources': 0, 'principal': 0, 'Kingdom': 0, 'giant': 0, 'based': 0, 'RICHARD': 0, 'Clarendon': 0, 'with': 0, 'written': 0, 'Jr': 0, 'than': 0, 'only': 0, '541': 0, 'black': 0, 'York': 0, 'gods': 0, 'quotations\"': 0, 'he': 0, 'des': 0, 'Atheisten': 0, 'Organizations': 0, 'over': 0, 'his': 0, 'above': 0, 'Ballantine': 0, 'get': 0, 'secular': 0, 'de': 0, '\"replacements': 0, 'criticized': 0, 'beam': 0, 'ones': 0, 'atheism/resources': 0, 'Kung': 0, 'probably': 0, 'carries': 0, 'GEORGE': 0, 'gem': 0, 'following': 0, 'fallible': 0, 'Christianity\"': 0, 'MARGARET': 0, 'humanism': 0, 'ATWOOD': 0, 'enlighting': 0, 'paper': 0, 'she': 0, '91605': 0, 'Allen': 0, 'obscure': 0, '7723': 0, 'wrote': 0, 'WALTER': 0, 'set': 0, 'For': 0, 'com>': 0, '316': 0, 'Christianity': 0, 'schizophrenic': 0, 'edition': 0, 'justification': 0, 'are': 1, 'existence': 0, 'Fax:': 0, 'best': 0, '#4': 0, 'Religion\"': 0, 'formalistic': 0, '831': 0, 'Comprehensive': 0, 'review': 0, 'Hopkins': 0, 'See': 0, 'Berlin': 0, 'unable': 0, 'various': 0, 'Death\"': 0, 'refutations': 0, 'stories': 0, 'reading': 0, 'Pot-Healer\"': 0, 'wide': 0, 'available': 0, 'King': 0, 'Bible': 0, 'IBKA': 0, 'FOR': 0, '\"VALIS\"': 0, 'Atheist': 0, 'attention': 0, 'GORDON': 0, 'Against': 0, 'Atheism': 0, 'refuting': 0, 'premise': 0, 'African': 0, 'Alt-atheism-archive-name:': 0, '256-8900': 0, 'revoked': 0, 'many': 0, 'Fish': 0, 'Quite': 0, 'against': 0, 'postpaid': 0, 'etc': 0, 'became': 0, 'und': 0, 'reply': 0, 'Kant': 0, 'Handbook\"': 0, \"'The\": 0, 'Divine': 0, 'co': 0, 'Illustrated': 0, 'simple': 0, 'seems': 0, 'period': 0, 'Fiction': 0, '3005': 0, 'church': 0, 'bizarre': 0, 'writing': 0, 'Temple': 0, 'considering': 0, 'late': 0, 'pp': 0, 'raise': 0, 'second': 0, 'monthly': 0, 'Creed\"': 0, 'COHEN': 0, 'outstanding': 0, 'Amongst': 0, 'quickly': 0, 'punished': 0, 'Archive-name:': 0, 'FREEDOM': 0, 'Fernwright': 0, 'assassinated': 0, 'Card': 0, 'Sidgwick': 0, 'life': 0, '(necessarily)': 0, 'easy': 0, 'assorted': 0, 'CA': 0, 'Berkeley': 0, 'readings': 0, 'usage': 0, 'relevance:': 0, 'lives': 0, 'abortions': 0, 'demand': 0, '\"right\"': 0, 'Subject:': 0, 'atheism\"': 0, 'hidden': 0, 'present': 0, 'Droemer-Knaur': 0, 'novel': 0, 'laser': 0, 'twisted': 0, 'Conway': 0, 'single': 0, \"Haught's\": 0, 'will': 0, 'while': 0, '\"non-belief': 0, 'Laurel': 0, 'property': 0, 'Any': 0, 'chilling': 0, '(and': 0, 'aesthetics': 0, 'Miracle': 0, '(Materialien': 0, '071': 0, 'is': 2, 'Dick': 0, 'agnostic': 0, 'it': 0, 'Write': 0, 'mantis': 0, \"Martin's\": 0, 'in': 1, 'ironic': 0, 'Konfessionslosesn': 0, 'nation': 0, 'stickers': 0, 'decisively': 0, 'centuries': 0, 'Unfortunately': 0, 'containing': 0, 'clerical': 0, '\"A': 0, '\"produce': 0, 'secularization': 0, ')': 0, 'make': 0, 'fallacies': 0, 'Newman': 0, 'another': 0, 'upon': 0, 'arguments': 0, 'copying': 0, 'Die': 0, 'Oxford': 0, 'events': 0, 'difficult': 0, '<figmo@netcom': 0, 'Politisches': 0, 'fuss': 0, 'novels': 0, 'Zeit': 0, 'comprehensive': 0, '3NL': 0, 'conceived': 0, 'Humanism': 0, 'effect': 0, 'delight': 0, 'Canticle': 0, 'wired': 0, 'Humanist': 0, 'characters': 0, 'realm': 0, '14228-2197': 0, 'recent': 0, 'rebut': 0, 'anthology': 0, 'Religious': 0, 'well': 0, 'spent': 0, 'Philosophical': 0, 'In': 0, 'organization': 0, 'the': 6, 'opinions': 0, 'United': 0, 'High': 0, 'absurdities': 0, 'less': 0, 'true': 0, 'older)': 0, 'Passage': 0, 'fundamentalists': 0, '(i': 0, 'atomic': 0, \"person's\": 0, '7119': 0, 'reality': 0, 'compared': 0, 'addresses': 0, 'IBDK': 0, 'bibliography': 0, '\"dictionary': 0, 'STEIN': 0, 'alternate': 0, 'had': 0, 'EDMUND': 0, 'RELIGION': 0, 'other': 0, 'developments': 0, 'Although': 0, 'SF': 0, 'dunkle': 0, 'Swinburne': 0, 'Philip': 0, 'has': 0, 'Anselm': 0, 'take': 0, 'god;': 0, 'Madness\"': 0, 'They': 0, 'fate': 0, 'Non-fiction': 0, 'read': 0, 'James': 0, '\"Views': 0, 'archive-server@mantis': 0, 'possibly': 0, '8EW': 0, 'know': 0, 'listening': 0, 'ALLEN': 0, 'England': 0, 'PHILIP': 0, 'Foote:': 0, '7251': 0, 'D-1000': 0, 'DESIGNS': 0, '59': 0, 'like': 0, 'ill': 0, 'erste': 0, 'immoralities': 0, 'Creed': 0, 'pregnant': 0, '1989)': 0, 'server': 0, 'London': 0, 'popular': 0, 'moral': 0, 'works': 0, 'terminology': 0, '\"Vicars': 0, 'MACKIE': 0, 'Kierkegaard': 0, 'right': 0, 'old': 0, 'often': 0, 'classical': 0, 'people': 0, 'some': 0, 'back': 0, 'Version:': 0, '53701': 0, \"There's\": 0, 'critique': 0, 'New': 0, 'Net': 0, 'newsletter': 0, '4RH': 0, 'and/or': 0, 'divine': 0, '4RL': 0, 'Biblical': 0, '467-9525': 0, 'demonstrates': 0, 'unbelief': 0, 'Men': 0, 'However': 0, 'per': 0, 'considers': 0, 'religion': 0, 'Catalog': 0, 'SWINBURNE': 0, 'statements': 0, 'symbol': 0, 'He': 0, 'Box': 0, 'be': 0, 'particular': 0, 'Origins': 0, 'performed': 0, 'Christians': 0, 'MICHAEL': 0, 'O': 0, '\"Gottes': 0, '(German': 0, 'Place': 0, 'become': 0, 'post': 0, 'by': 0, 'dead': 0, 'zur': 0, 'on': 0, 'Madison': 0, 'Square': 0, 'Glenn': 0, 'December': 0, \"Morality'\": 0, 'US': 0, 'magazine': 0, 'Americans': 0, 'Amherst': 0, \"Handmaid's\": 0, 'Cameron': 0, 'or': 0, 'own': 0, 'letters': 0, '14226': 0, 'JAMES': 0, 'into': 0, 'Rationalism\"': 0, 'fish\"': 0, 'intellectual': 0, 'down': 0, 'accounts': 0, 'been': 0, 'or:': 0, 'TURNER': 0, 'Includes': 0, 'thoughts\"': 0, '1986': 0, 'Designs': 0, 'Ball': 0, 'paraphernalia': 0, '837-2475': 0, 'Secular': 0, 'AFRICAN-AMERICANS': 0, '1988': 0, 'why': 0, 'NY': 0, \"Lamb's\": 0, '\"Holy': 0, 'way': 0, 'was': 0, 'files': 0, 'THOMAS': 0, '750': 0, 'J': 0, 'but': 0, 'Rosa': 0, 'volume': 0, '(608)': 0, 'newer': 0, 'articles': 0, '226': 0, 'Austin': 0, 'atrocities': 0, 'Addresses': 0, 'begins': 0, 'non-existence': 0, '(paper)': 0, 'Gold': 0, 'versions': 0, 'inside': 0, 'Diener': 0, 'planet': 0, 'Society': 0, 'Britain': 0, 'Books': 0, '0-910309-26-4': 0, 'uh': 0, 'uk': 0, 'hand-waving': 0, 'again': 0, '140195': 0, 'more': 0, 'detailed': 0, 'DICK': 0, 'USA': 0, '78714-0195': 0, 'describe': 0, 'al': 0, 'an': 0, 'as': 1, 'at': 0, 'ink': 0, 'axiarchism': 0, 'Darwin': 0, '(Revised': 0, 'archive': 0, '(ultimately)': 0, '11': 0, 'Francisco': 0, 'TX': 0, 'when': 0, 'scholarly': 0, '41': 0, 'book': 0, 'thought-provoking': 0, 'better': 0, 'Reason\"': 0, 'you': 0, 'PETER': 0, 'From:': 0, 'Case': 0, 'area': 0, 'Great': 0, 'atheism/index': 0, 'star': 0, 'living': 0, 'critiques': 0, 'Drive': 0, 'includes': 0, 'push': 0, 'persecution': 0, 'Tale\"': 0, 'Murder': 0, 'South': 0, 'searches': 0, 'e': 0, 'for': 1, 'atheist': 0, 'Informationen': 0, 'An': 0, 'atheism': 0, 'Street': 0, '\\xff': 0, 'Anthology': 0, 'Invasion\"': 0, 'craftsmen': 0, 'deluxe': 0}\n"
     ]
    }
   ],
   "source": [
    "myMessageDictionary = createDictionary(messages_aa[0])\n",
    "\n",
    "for word in myMessageDictionary:\n",
    "    myMessageDictionary[word] = 100*myMessageDictionary[word]/len(myMessageDictionary)\n",
    "\n",
    "print(myMessageDictionary)"
   ]
  },
  {
   "cell_type": "markdown",
   "metadata": {},
   "source": [
    "What follows is a solution with a loop, in order to process the three messages of messages_aa. Just try to understand it, and you are done."
   ]
  },
  {
   "cell_type": "code",
   "execution_count": 49,
   "metadata": {
    "collapsed": false
   },
   "outputs": [
    {
     "name": "stdout",
     "output_type": "stream",
     "text": [
      "[{'Sell': 0, 'all': 0, 'writings': 0, 'Based': 0, 'translation:': 0, 'similarity': 0, 'both': 0, 'Horrors\"': 0, 'founded': 0, 'concept': 0, 'legal': 0, 'Horrors:': 0, 'go': 0, 'alt': 0, '(whether': 0, 'Telephone:': 0, '(which': 0, 'luxuries': 0, 'suppressed)': 0, 'Foundation': 0, 'supposedly': 0, 'number': 0, 'Subtitled': 0, 'Claus': 0, 'young': 0, 'Evil': 0, 'to': 1, 'charge': 0, 'promoting': 0, 'those': 0, 'sceptical': 0, 'quarterly': 0, 'moderated': 0, 'must': 0, 'worth': 0, 'resources': 0, 'theists': 0, 'fax': 0, 'woman': 0, 'mainstream': 0, 'very': 0, 'implicitly': 0, 'oceans': 0, 'contemporary': 0, 'P': 0, '\"Galactic': 0, 'diary': 0, 'JR': 0, \"Freethought'\": 0, 'D': 0, '14215': 0, 'alien': 0, 'Bible-Believer\"': 0, 'incoherent': 0, '--': 0, 'positions': 0, 'attempts': 0, 'try': 0, 'Contradicts': 0, 'Compromise\"': 0, 'AUTHORS': 0, 'small': 0, '20th': 0, 'concluded': 0, 'EVOLUTION': 0, '\"Darwin\"': 0, 'century': 0, 'invades': 0, '\"positive': 0, 'FFRF': 0, 'Coherence': 0, 'direct': 0, 'Number': 0, '272': 0, '273': 0, 'Postfach': 0, 'Maze': 0, 'East': 0, 'odd': 0, 'Christ\"': 0, 'Red': 0, '3D': 0, 'even': 0, 'what': 0, '\"Darwin': 0, 'FAQ:': 0, 'religious': 0, 'assisted': 0, 'HUMANISM': 0, 'expressed': 0, 'This': 0, 'version': 0, 'goes': 0, 'B\"ucherdienst': 0, 'new': 0, 'net': 0, 'University': 0, 'Short': 0, 'hero': 0, 'whose': 0, 'Freedom': 0, 'K': 0, 'Think': 0, 'EDGAR': 0, 'HAUGHT': 0, 'ranges': 0, 'met': 0, 'them': 0, '24-hour': 0, 'address': 0, '\"An': 0, 'Anthology\"': 0, 'world-view': 0, 'MD': 0, 'great': 0, 'substance': 0, '0-8018-2494-X': 0, 'study': 0, 'Crimes': 0, '(see': 0, 'through': 0, 'leaving': 0, '89-64079': 0, 'atoms\"': 0, 'proof': 0, 'makes': 0, 'Papsttums\"': 0, '430': 0, 'Devil': 0, 'god(s)\")': 0, \"It's\": 0, 'When': 0, '(1981)': 0, 'summons': 0, \"Noyes'\": 0, 'contradictions': 0, 'send': 0, '\"The': 0, '0-345-29887-X': 0, 'America\"': 0, 'challenging': 0, 'use': 0, 'from': 0, '0': 0, '(posthumous)': 0, 'inductive': 0, 'contains': 0, '0908': 0, 'papal': 0, 'live': 0, 'explicitly': 0, 'music': 0, 'archives': 0, 'God\"': 0, 'Plantinga': 0, 'terminally': 0, 'sort': 0, 'faith': 0, 'under': 0, 'about': 0, 'mathew': 0, 'American': 0, 'appendix': 0, 'VARIOUS': 0, 'stick': 0, 'V': 0, 'earthers': 0, '95': 0, 'moulded': 0, 'women': 0, '1990': 0, '1992': 0, 'word': 0, 'this': 0, 'der': 0, 'work': 0, 'Library': 0, '(Editor)': 0, 'values': 0, 'can': 0, 'of': 3, 'believed': 0, 'making': 0, 'example': 0, 'history': 0, \"Lelie's\": 0, 'Islington': 0, \"woman's\": 0, '\"old': 0, 'Contains': 0, 'states': 0, 'journal:': 0, 'SELDES': 0, 'mail-based': 0, 'subjects': 0, 'Norm': 0, 'Hume': 0, 'pink': 0, 'information': 0, '\"Neither': 0, 'Mind': 0, 'rather': 0, 'technology': 0, 'Journal': 0, 'Lion': 0, 'write': 0, 'Prometheus': 0, 'trilogy': 0, 'mysteries': 0, 'if': 0, '\"What': 0, 'Examines': 0, 'Looks': 0, 'A': 0, 'alternative': 0, 'EXAMINER': 0, \"Atwood's\": 0, 'may': 0, '1271': 0, 'after': 0, 'derived': 0, 'different': 0, 'British': 0, 'outlawed': 0, '0511/211216': 0, 'such': 0, 'concentrating': 0, '1881': 0, 'man': 0, 'a': 1, 'All': 0, 'short': 0, 'attempt': 0, 'lines': 0, 'One': 0, 'tale': 0, 'tendentious': 0, '(\"the': 0, 'fictitious': 0, 'so': 0, 'ultimate': 0, '0-8018-3407-4': 0, '78752-2973': 0, 'Alt': 0, 'quotations': 0, '(512)': 0, 'began': 0, 'anyone': 0, 'Bantam': 0, \"Mackie's\": 0, 'help': 0, 'Johns': 0, 'below)': 0, 'mainly': 0, 'brain': 0, 'MIZ': 0, 'including': 0, 'polished': 0, 'deity': 0, '490': 0, 'its': 0, '1': 0, 'style': 0, 'His': 0, 'group': 0, 'closed;': 0, \"Women's\": 0, 'world\"': 0, 'comply': 0, 'MARTIN': 0, '\"Atheism:': 0, 'mail': 0, 'Itself\"': 0, 'defining': 0, '(716)': 0, 'FOUNDATION': 0, 'Evolution': 0, 'Platinga': 0, '1770-1900': 0, 'L': 0, 'Bay': 0, 'Foote': 0, 'they': 0, 'not': 0, 'hunted': 0, 'day': 0, 'bank': 0, 'Ethical': 0, 'blueprints': 0, 'San': 0, 'Noteworthy': 0, 'Gnostic': 0, 'Seite': 0, 'listing': 0, 'covering': 0, 'ROSA': 0, 'grows': 0, 'uncovering': 0, 'filling': 0, 'BOOKS': 0, 'technology-based': 0, 'truth': 0, 'dogmatic': 0, 'accompanied': 0, 'beneath': 0, '372': 0, 'traces': 0, 'Humanism:': 0, 'Last-modified:': 0, 'Philips': 0, 'From': 0, 'fired': 0, 'series': 0, 'fish': 0, 'revised': 0, '700': 0, 'monks': 0, '702': 0, '88': 0, 'books': 0, 'hanged': 0, 'Unbelief': 0, 'defences': 0, 'cathedral': 0, 'beyond': 0, 'description': 0, 'is:': 0, 'unsupportable': 0, '458-1244': 0, 'publish': 0, 'rational': 0, 'Joe': 0, 'Internationaler': 0, 'Focusses': 0, 'PRESS': 0, 'Holloway': 0, '(hardcover;': 0, 'philosophy': 0, 'belief': 0, 'G': 0, 'DISCH': 0, 'cars': 0, 'sinful': 0, 'rely': 0, '(hardcover)': 0, 'ancient': 0, 'adulteries': 0, 'freethought': 0, 'W': 0, 'which': 0, 'Buffalo': 0, 'forbids': 0, 'People': 0, '<mathew@mantis': 0, 'National': 0, 'N19': 0, 'tries': 0, 'used': 0, 'times': 0, 'AMERICAN': 0, 'NORM': 0, 'bumper': 0, 'dismissively': 0, 'first': 0, 'origin': 0, 'Rationalist': 0, 'pot-healer': 0, 'Hrsg': 0, 'Bund': 0, 'MIZ-Vertrieb': 0, 'dull': 0, 'paperback': 0, 'one': 0, 'feet': 0, 'philosophical': 0, 'directly': 0, 'Hollywood': 0, 'plastic': 0, 'idea': 0, 'Conduit': 0, 'story': 0, '\"': 0, 'North': 0, 'exists': 0, 'Congress': 0, 'unknown': 0, 'mysteriously': 0, 'system': 0, 'construct': 0, 'Konfessionslosen': 0, 'doomsday': 0, 'their': 0, 'returns': 0, \"Cardiff's\": 0, 'observations': 0, 'Leibowitz\"': 0, 'Press': 0, 'white': 0, 'remote': 0, 'Association': 0, 'that': 0, 'et': 0, '\"Saint': 0, 'lists': 0, 'approachable': 0, 'R': 0, 'western': 0, 'somewhat': 0, 'doctors': 0, '$4': 0, 'France': 0, 'Post': 0, 'Road': 0, 'History': 0, 'to:': 0, 'uk>': 0, 'kind': 0, '14': 0, '7215': 0, 'imputation': 0, 'Canyon': 0, 'Theism\"': 0, 'friend': 0, 'were': 0, 'Paperbacks': 0, 'atheistic)': 0, 'theocracy': 0, 'and': 3, '880': 0, 'ISBN': 0, 'remained': 0, 'MILLER': 0, 'DE': 0, 'contempory': 0, 'AAH': 0, 'It': 0, 'Hannover': 0, 'AAP': 0, 'refreshingly': 0, '\"Without': 0, 'any': 0, 'sell': 0, '\"Faith': 0, '(1977)': 0, 'Christian': 0, '\"negative': 0, 'available)': 0, '-': 0, 'theses': 0, 'God': 0, 'also': 0, 'emphasis': 0, 'Appendix': 0, 'Germany': 0, 'amusing': 0, 'Santa': 0, '0-87722-642-3': 0, 'Hall': 0, 'retroactively:': 0, '\"Davy\"': 0, 'Lynn': 0, 'sure': 0, 'price': 0, 'who': 0, 'M': 0, 'PANGBORN': 0, 'paid': 0, 'most': 0, 'Without': 0, 'rejected': 0, 'sheets': 0, 'Existence': 0, 'Justification\"': 0, 'The': 0, 'pages': 0, 'restatements': 0, 'Mackie': 0, 'Descartes': 0, 'FROM': 0, 'D-3000': 0, 'Philadelphia': 0, 'Freethinker\"': 0, '2nd': 0, \"you'll\": 0, '0-87722-767-5': 0, 'Bible\"': 0, 'Earth': 0, 'mailing': 0, 'WC1R': 0, 'saying': 0, 'particularly': 0, '\"African': 0, 'rambling': 0, 'Catholic': 0, 'Baltimore': 0, 'ATHEIST': 0, 'Edition)\"': 0, '664': 0, '1266': 0, 'WI': 0, 'Religion': 0, 'PROMETHEUS': 0, 'radio': 0, 'N1': 0, 'range': 0, 'Argues': 0, 'Resources': 0, 'principal': 0, 'Kingdom': 0, 'giant': 0, 'based': 0, 'RICHARD': 0, 'Clarendon': 0, 'with': 0, 'written': 0, 'Jr': 0, 'than': 0, 'only': 0, '541': 0, 'black': 0, 'York': 0, 'gods': 0, 'quotations\"': 0, 'he': 0, 'des': 0, 'Atheisten': 0, 'Organizations': 0, 'over': 0, 'his': 0, 'above': 0, 'Ballantine': 0, 'get': 0, 'secular': 0, 'de': 0, '\"replacements': 0, 'criticized': 0, 'beam': 0, 'ones': 0, 'atheism/resources': 0, 'Kung': 0, 'probably': 0, 'carries': 0, 'GEORGE': 0, 'gem': 0, 'following': 0, 'fallible': 0, 'Christianity\"': 0, 'MARGARET': 0, 'humanism': 0, 'ATWOOD': 0, 'enlighting': 0, 'paper': 0, 'she': 0, '91605': 0, 'Allen': 0, 'obscure': 0, '7723': 0, 'wrote': 0, 'WALTER': 0, 'set': 0, 'For': 0, 'com>': 0, '316': 0, 'Christianity': 0, 'schizophrenic': 0, 'edition': 0, 'justification': 0, 'are': 0, 'existence': 0, 'Fax:': 0, 'best': 0, '#4': 0, 'Religion\"': 0, 'formalistic': 0, '831': 0, 'Comprehensive': 0, 'review': 0, 'Hopkins': 0, 'See': 0, 'Berlin': 0, 'unable': 0, 'various': 0, 'Death\"': 0, 'refutations': 0, 'stories': 0, 'reading': 0, 'Pot-Healer\"': 0, 'wide': 0, 'available': 0, 'King': 0, 'Bible': 0, 'IBKA': 0, 'FOR': 0, '\"VALIS\"': 0, 'Atheist': 0, 'attention': 0, 'GORDON': 0, 'Against': 0, 'Atheism': 0, 'refuting': 0, 'premise': 0, 'African': 0, 'Alt-atheism-archive-name:': 0, '256-8900': 0, 'revoked': 0, 'many': 0, 'Fish': 0, 'Quite': 0, 'against': 0, 'postpaid': 0, 'etc': 0, 'became': 0, 'und': 0, 'reply': 0, 'Kant': 0, 'Handbook\"': 0, \"'The\": 0, 'Divine': 0, 'co': 0, 'Illustrated': 0, 'simple': 0, 'seems': 0, 'period': 0, 'Fiction': 0, '3005': 0, 'church': 0, 'bizarre': 0, 'writing': 0, 'Temple': 0, 'considering': 0, 'late': 0, 'pp': 0, 'raise': 0, 'second': 0, 'monthly': 0, 'Creed\"': 0, 'COHEN': 0, 'outstanding': 0, 'Amongst': 0, 'quickly': 0, 'punished': 0, 'Archive-name:': 0, 'FREEDOM': 0, 'Fernwright': 0, 'assassinated': 0, 'Card': 0, 'Sidgwick': 0, 'life': 0, '(necessarily)': 0, 'easy': 0, 'assorted': 0, 'CA': 0, 'Berkeley': 0, 'readings': 0, 'usage': 0, 'relevance:': 0, 'lives': 0, 'abortions': 0, 'demand': 0, '\"right\"': 0, 'Subject:': 0, 'atheism\"': 0, 'hidden': 0, 'present': 0, 'Droemer-Knaur': 0, 'novel': 0, 'laser': 0, 'twisted': 0, 'Conway': 0, 'single': 0, \"Haught's\": 0, 'will': 0, 'while': 0, '\"non-belief': 0, 'Laurel': 0, 'property': 0, 'Any': 0, 'chilling': 0, '(and': 0, 'aesthetics': 0, 'Miracle': 0, '(Materialien': 0, '071': 0, 'is': 1, 'Dick': 0, 'agnostic': 0, 'it': 0, 'Write': 0, 'mantis': 0, \"Martin's\": 0, 'in': 1, 'ironic': 0, 'Konfessionslosesn': 0, 'nation': 0, 'stickers': 0, 'decisively': 0, 'centuries': 0, 'Unfortunately': 0, 'containing': 0, 'clerical': 0, '\"A': 0, '\"produce': 0, 'secularization': 0, ')': 0, 'make': 0, 'fallacies': 0, 'Newman': 0, 'another': 0, 'upon': 0, 'arguments': 0, 'copying': 0, 'Die': 0, 'Oxford': 0, 'events': 0, 'difficult': 0, '<figmo@netcom': 0, 'Politisches': 0, 'fuss': 0, 'novels': 0, 'Zeit': 0, 'comprehensive': 0, '3NL': 0, 'conceived': 0, 'Humanism': 0, 'effect': 0, 'delight': 0, 'Canticle': 0, 'wired': 0, 'Humanist': 0, 'characters': 0, 'realm': 0, '14228-2197': 0, 'recent': 0, 'rebut': 0, 'anthology': 0, 'Religious': 0, 'well': 0, 'spent': 0, 'Philosophical': 0, 'In': 0, 'organization': 0, 'the': 3, 'opinions': 0, 'United': 0, 'High': 0, 'absurdities': 0, 'less': 0, 'true': 0, 'older)': 0, 'Passage': 0, 'fundamentalists': 0, '(i': 0, 'atomic': 0, \"person's\": 0, '7119': 0, 'reality': 0, 'compared': 0, 'addresses': 0, 'IBDK': 0, 'bibliography': 0, '\"dictionary': 0, 'STEIN': 0, 'alternate': 0, 'had': 0, 'EDMUND': 0, 'RELIGION': 0, 'other': 0, 'developments': 0, 'Although': 0, 'SF': 0, 'dunkle': 0, 'Swinburne': 0, 'Philip': 0, 'has': 0, 'Anselm': 0, 'take': 0, 'god;': 0, 'Madness\"': 0, 'They': 0, 'fate': 0, 'Non-fiction': 0, 'read': 0, 'James': 0, '\"Views': 0, 'archive-server@mantis': 0, 'possibly': 0, '8EW': 0, 'know': 0, 'listening': 0, 'ALLEN': 0, 'England': 0, 'PHILIP': 0, 'Foote:': 0, '7251': 0, 'D-1000': 0, 'DESIGNS': 0, '59': 0, 'like': 0, 'ill': 0, 'erste': 0, 'immoralities': 0, 'Creed': 0, 'pregnant': 0, '1989)': 0, 'server': 0, 'London': 0, 'popular': 0, 'moral': 0, 'works': 0, 'terminology': 0, '\"Vicars': 0, 'MACKIE': 0, 'Kierkegaard': 0, 'right': 0, 'old': 0, 'often': 0, 'classical': 0, 'people': 0, 'some': 0, 'back': 0, 'Version:': 0, '53701': 0, \"There's\": 0, 'critique': 0, 'New': 0, 'Net': 0, 'newsletter': 0, '4RH': 0, 'and/or': 0, 'divine': 0, '4RL': 0, 'Biblical': 0, '467-9525': 0, 'demonstrates': 0, 'unbelief': 0, 'Men': 0, 'However': 0, 'per': 0, 'considers': 0, 'religion': 0, 'Catalog': 0, 'SWINBURNE': 0, 'statements': 0, 'symbol': 0, 'He': 0, 'Box': 0, 'be': 0, 'particular': 0, 'Origins': 0, 'performed': 0, 'Christians': 0, 'MICHAEL': 0, 'O': 0, '\"Gottes': 0, '(German': 0, 'Place': 0, 'become': 0, 'post': 0, 'by': 0, 'dead': 0, 'zur': 0, 'on': 0, 'Madison': 0, 'Square': 0, 'Glenn': 0, 'December': 0, \"Morality'\": 0, 'US': 0, 'magazine': 0, 'Americans': 0, 'Amherst': 0, \"Handmaid's\": 0, 'Cameron': 0, 'or': 0, 'own': 0, 'letters': 0, '14226': 0, 'JAMES': 0, 'into': 0, 'Rationalism\"': 0, 'fish\"': 0, 'intellectual': 0, 'down': 0, 'accounts': 0, 'been': 0, 'or:': 0, 'TURNER': 0, 'Includes': 0, 'thoughts\"': 0, '1986': 0, 'Designs': 0, 'Ball': 0, 'paraphernalia': 0, '837-2475': 0, 'Secular': 0, 'AFRICAN-AMERICANS': 0, '1988': 0, 'why': 0, 'NY': 0, \"Lamb's\": 0, '\"Holy': 0, 'way': 0, 'was': 0, 'files': 0, 'THOMAS': 0, '750': 0, 'J': 0, 'but': 0, 'Rosa': 0, 'volume': 0, '(608)': 0, 'newer': 0, 'articles': 0, '226': 0, 'Austin': 0, 'atrocities': 0, 'Addresses': 0, 'begins': 0, 'non-existence': 0, '(paper)': 0, 'Gold': 0, 'versions': 0, 'inside': 0, 'Diener': 0, 'planet': 0, 'Society': 0, 'Britain': 0, 'Books': 0, '0-910309-26-4': 0, 'uh': 0, 'uk': 0, 'hand-waving': 0, 'again': 0, '140195': 0, 'more': 0, 'detailed': 0, 'DICK': 0, 'USA': 0, '78714-0195': 0, 'describe': 0, 'al': 0, 'an': 0, 'as': 0, 'at': 0, 'ink': 0, 'axiarchism': 0, 'Darwin': 0, '(Revised': 0, 'archive': 0, '(ultimately)': 0, '11': 0, 'Francisco': 0, 'TX': 0, 'when': 0, 'scholarly': 0, '41': 0, 'book': 0, 'thought-provoking': 0, 'better': 0, 'Reason\"': 0, 'you': 0, 'PETER': 0, 'From:': 0, 'Case': 0, 'area': 0, 'Great': 0, 'atheism/index': 0, 'star': 0, 'living': 0, 'critiques': 0, 'Drive': 0, 'includes': 0, 'push': 0, 'persecution': 0, 'Tale\"': 0, 'Murder': 0, 'South': 0, 'searches': 0, 'e': 0, 'for': 0, 'atheist': 0, 'Informationen': 0, 'An': 0, 'atheism': 0, 'Street': 0, '\\xff': 0, 'Anthology': 0, 'Invasion\"': 0, 'craftsmen': 0, 'deluxe': 0}, {'Foundation': 0, 'superficially': 0, 'q0Z4hSSPpAU=': 0, 'teaching': 0, 'worth': 0, 'today?': 0, 'every': 0, 'reforms': 0, 'vast': 0, 'progression': 0, 'SIGNATURE-----': 0, \"'ought'\": 0, 'force': 0, 'pragmatic': 0, 'others?': 0, 'likely': 0, 'even': 0, 'Eventually': 0, 'incompatible': 0, 'non-detectable': 0, 'above': 0, 'churches': 0, 'increasing': 0, 'ever': 0, 'told': 0, 'morality?\"': 0, 'met': 0, 'beliefs?': 0, \"aren't\": 0, 'study': 0, \"someone's\": 0, 'campaign': 0, 'Rather': 0, 'explained': 0, 'patience': 0, 'moral': 0, 'Version:': 0, 'would': 0, 'hospital': 0, 'chooses': 0, 'cannibal': 0, 'call': 0, 'therefore': 0, 'until': 0, 'exist?\"': 0, 'successful': 0, 'brings': 0, '9%': 0, 'mathew': 0, 'dogma': 0, 'interaction': 0, 'hold': 0, 'must': 0, 'me': 0, '1993': 0, '1992': 0, 'join': 0, 'pursue': 0, 'work': 0, '\"born': 0, 'my': 0, 'example': 0, 'believer?': 0, 'give': 0, 'involve': 0, 'indicates': 0, 'want': 0, 'present-day': 0, 'legislate': 0, 'end': 0, 'intoxicated': 0, 'provide': 0, 'how': 0, 'answer': 0, 'widespread': 0, 'A': 0, 'believers': 0, 'coined': 0, 'after': 0, 'demanding': 0, 'hence': 0, 'wrong': 0, '\"live': 0, 'meaningful': 0, 'All': 0, 'attempt': 0, 'Sceptical': 0, 'ultimate': 0, 'Alt': 0, 'order': 0, 'origin': 0, 'interpretation': 0, 'over': 0, '\"atheist\"': 0, 'inconclusive': 0, 'before': 0, 'His': 0, 'fit': 0, 'expectations': 0, 'better': 0, 'then': 0, 'them': 0, 'Judaism': 0, 'weakness': 0, 'effects': 0, 'they': 0, 'schools': 0, 'yourself': 0, 'represents': 0, 'unexceptional': 0, 'reasonable': 0, 'each': 0, 'mean': 0, 'financial': 0, 'intended?': 0, 'arrives': 0, 'god': 0, 'encourage': 0, 'coffee?\"': 0, '\"memes\"': 0, 'eternal': 0, 'free': 0, 'campaigns': 0, 'created': 0, 'September': 0, 'messages': 0, 'SIGNED': 0, 'already': 0, 'Please': 0, 'encouraging': 0, 'restrict': 0, 'Buddhism': 0, 'another': 0, 'AIDS': 0, 'leaders': 0, 'similarly': 0, 'needed': 0, 'listed': 0, 'listen': 0, 'Search': 0, 'B': 0, 'inexact': 0, '\"religion\"': 0, 'somewhat': 0, 'legally': 0, 'begins': 0, 'mercy': 0, 'classed': 0, 'matter': 0, 'silly': 0, 'spectrum': 0, 'Person': 0, 'talking': 0, '-----BEGIN': 0, 'seen': 0, 'seem': 0, 'Christian': 0, 'latter': 0, 'responsible': 0, 'predominantly': 0, 'subjects': 0, 'They': 0, 'fuss?': 0, 'though': 0, 'object': 0, 'see!\"': 0, 'plenty': 0, 'morality': 0, '\"strong': 0, 'metal': 0, 'digress': 0, 'points': 0, 'non-detectable?\"': 0, 'principle': 0, 'responded': 0, 'came': 0, 'saying': 0, 'Union': 0, 'random': 0, 'religions': 0, 'attempts': 0, 'subtle': 0, 'explain': 0, 'Others': 0, 'adequate': 0, 'personality': 0, 'do': 0, '\"You': 0, 'stop': 0, 'perceive': 0, 'Organization': 0, 'Soviet': 0, 'societies': 0, 'runs': 0, '\"socially': 0, 'countries': 0, 'fields': 0, 'them;': 0, 'explanations': 0, 'Christianity': 0, 'observed': 0, 'depends': 0, 'result': 0, '\"for\"': 0, 'best': 0, 'subject': 0, 'said': 0, 'game\"': 0, 'unable': 0, 'disprove': 0, 'sorts': 0, 'approach': 0, 'Huxley': 0, 'we': 0, 'nature': 0, 'ignorance': 0, 'wear': 0, 'Alt-atheism-archive-name:': 0, 'essentially': 0, 'ill': 0, 'against': 0, '\"enemy\"': 0, 'argue': 0, 'asked': 0, 'Weak': 0, 'unicorns': 0, 'Sorry': 0, 'speak': 0, 'puts': 0, 'basis': 0, 'claiming': 0, 'been': 0, 'much': 0, 'basic': 0, 'superhuman': 0, 'life': 0, 'drugs': 0, 'concerning': 0, '\"certain\"': 0, 'proselytize': 0, 'maximally': 0, 'patronizing': 0, 'has': 0, 'Beware': 0, 'aid': 0, 'remembering': 0, 'redefinitions': 0, 'faith\"': 0, 'is': 2, 'it': 1, 'obeying': 0, 'world-wide': 0, 'in': 1, 'campaigning': 0, 'interacts': 0, 'Historically': 0, 'if': 0, '\"moral\"': 0, 'Jeffrey': 0, 'things': 0, 'make': 0, '\"I': 0, 'conclusions;': 0, 'unfortunate': 0, 'Of': 0, 'several': 0, 'atheists\"': 0, 'MESSAGE-----': 0, 'Maybe': 0, '90%': 0, 'hand': 0, 'faiths': 0, 'atheists?': 0, 'prescribed': 0, 'game': 0, 'claims': 0, 'the': 3, \"individual's\": 0, 'just': 0, 'gods': 0, 'unfair': 0, 'human': 0, 'yes': 0, '\"meaning\"': 0, 'had': 0, 'spread': 0, 'Surely': 0, 'easy': 0, 'save': 0, 'fact\"': 0, 'posed': 0, 'possible': 0, 'birth': 0, 'destroy': 0, 'desire': 0, 'Also': 0, 'specific': 0, '5%': 0, 'notorious': 0, '(\"right\")': 0, 'deal': 0, 'people': 0, 'Much': 0, '(\"wrong\")': 0, 'for': 0, 'Nobody': 0, 'contributing': 0, 'everything': 0, 'asking': 0, 'He': 0, 'core': 0, 'peer': 0, 'properties': 0, 'plug': 0, \"something's\": 0, 'citizens': 0, 'trustworthy': 0, 'primitive': 0, 'presence': 0, 'wasting': 0, 'Make': 0, 'obtaining': 0, 'negative': 0, 'doctrine': 0, 'unambiguous': 0, 'categorization': 0, 'Unless': 0, 'support': 0, 'perverting': 0, 'fight': 0, 'way': 0, 'resulted': 0, 'was': 0, 'happy': 0, 'what?': 0, 'becoming': 0, 'conclusively': 0, 'forever': 0, 'true': 0, 'idea;': 0, 'tell': 0, \"atheism's\": 0, 'science)': 0, 'proved': 0, 'Introduction': 0, 'evidence': 0, 'exist': 0, 'prayer': 0, 'physical': 0, 'discriminate': 0, 'dying': 0, 'no': 0, 'generally': 0, 'reality': 0, 'holding': 0, 'test': 0, 'unwilling': 0, '-----END': 0, 'clear-cut': 0, 'anti-religious': 0, 'died': 0, 'tested': 0, 'assume': 0, 'cohesion': 0, 'good-natured': 0, 'time': 0, 'controlling': 0, 'concept': 0, '(say)': 0, 'keep': 0, 'souls': 0, 'primes': 0, 'empathize': 0, 'certainly': 0, 'answered': 0, 'finally': 0, '\"So': 0, 'perversion': 0, '1991': 0, 'choice': 0, 'position\"': 0, 'word': 0, 'Just': 0, 'presented': 0, 'did': 0, 'p': 0, 'science': 0, 'quick': 0, 'spiritual': 0, 'verifiable': 0, 'measurable': 0, 'shirts': 0, 'comforting': 0, '\"agreed': 0, 'theist': 0, 'agnosticism': 0, 'Imagine': 0, 'shared': 0, 'self-preservation': 0, 'supporting': 0, 'genes': 0, 'Stalin': 0, 'groups': 0, 'along': 0, 'change': 0, 'condoms': 0, 'pseudo-sciences': 0, '\"anti-religious\"': 0, 'usually': 0, 'REAL': 0, \"It's\": 0, 'merely': 0, 'When': 0, 'logically': 0, '\"Today': 0, 'prove': 0, 'sake': 0, 'positive': 0, 'live': 0, 'believing': 0, 'Those': 0, 'These': 0, 'acceptable': 0, 'everywhere': 0, 'virtue': 0, 'effort': 0, 'organizations': 0, 'originally': 0, 'believes': 0, 'can': 0, '\"Then': 0, 'believed': 0, 'making': 0, 'claim': 0, 'dedicated': 0, 'figure': 0, 'acceptance:': 0, 'theistic': 0, 'discussion': 0, 'means': 0, '1': 0, 'vital': 0, 'Gods;': 0, 'Why': 0, 'Society': 0, 'information': 0, 'may': 0, 'mankind': 0, 'such': 0, 'data': 0, 'natural': 0, 'remember': 0, '\"religious\"': 0, 'so': 0, 'flat-out': 0, 'definitions': 0, 'increase': 0, 'talk': 0, 'Islam': 0, 'acts': 0, 'pointed': 0, 'Roper': 0, 'wishing': 0, 'unacceptable': 0, 'years': 0, 'course': 0, 'still': 0, 'worship': 0, 'tendency': 0, 'group': 0, 'belief?\"': 0, 'antipathy': 0, 'mail': 0, '\"What': 0, 'killer': 0, 'records': 0, 'not': 1, 'nor': 0, 'term': 0, 'mass-murderer': 0, 'entirely': 0, 'Last-modified:': 0, 'disproving': 0, '\"No': 0, 'adequately': 0, 'shown': 0, 'theism;': 0, 'looking': 0, 'seriously': 0, 'theory': 0, 'Sometimes': 0, 'possibility': 0, 'quite': 0, 'you?\"': 0, 'inevitable': 0, 'care': 0, 'language': 0, 'thing': 0, 'profess': 0, 'think': 0, 'blood': 0, 'Even': 0, 'There': 0, 'one': 0, 'one-time': 0, 'carry': 0, 'impossible': 0, 'open': 0, 'little': 0, 'exists': 0, 'caught': 0, 'anyone': 0, '2': 0, 'Such': 0, 'speaking': 0, 'gives': 0, 'meme': 0, 'that': 2, 'copy': 0, 'than': 0, 'population': 0, 'uk>': 0, '12': 0, 'impractical': 0, 'require': 0, 'future': 0, 'were': 0, 'and': 1, 'contentious': 0, 'atheism\"': 0, 'say': 0, 'any': 0, '\"compassionate\"': 0, 'conversion': 0, 'answering': 0, 'ideas': 0, 'note': 0, 'other': 0, 'take': 0, 'wanting': 0, 'sure': 0, 'arguing': 0, 'un-Christian': 0, ']': 0, 'unknowable': 0, 'especially': 0, 'Whoever': 0, 'considered': 0, 'acceptable\"': 0, 'adopt': 0, 'Humans': 0, 'laws': 0, 'show': 0, 'cheap': 0, 'Comments': 0, 'denial;': 0, 'inconsistent': 0, 'We': 0, 'enough': 0, 'only': 0, 'black': 0, 'pgpinfo@mantis': 0, 'transfusions': 0, 'viewpoint': 0, 'get': 0, 'cannot': 0, 'denials': 0, 'prime': 0, 'regarding': 0, '[\"Freethought': 0, 'held': 0, 'scepticism;': 0, 'parasitic': 0, 'priest': 0, 'where': 0, 'worrying': 0, '\"Obviously': 0, 'voluntary': 0, 'That': 0, 'ways': 0, 'label': 0, 'outside': 0, 'between': 0, 'across': 0, 'Bible': 0, 'Atheist': 0, 'Atheism': 0, 'article': 0, '\"Here': 0, '\"life\"': 0, 'many': 0, 'according': 0, 'Religions': 0, \"can't\": 0, 'pastimes': 0, 'Note': 0, 'digression': 0, 'assertions': 0, \"couldn't\": 0, '\"Strong': 0, 'sensible': 0, 'But': 0, 'mark': 0, 'defined': 0, 'memetics': 0, 'motives': 0, 'wants': 0, '\"Does': 0, 'observers': 0, 'external': 0, 'careful': 0, 'former': 0, '\"Of': 0, 'sound': 0, 'these': 0, '\"OK': 0, 'slippery': 0, 'expertise': 0, 'taking': 0, 'sincere': 0, 'agnostic': 0, 'dedicate': 0, 'good': 0, '\"How': 0, 'everyday': 0, 'worry': 0, 'different': 0, 'harsh': 0, 'propagation': 0, 'scientifically': 0, 'same': 0, 'atheist?\"': 0, 'arguments': 0, 'document': 0, 'events': 0, 'I': 0, 'companion': 0, 'driven': 0, 'running': 0, '(To': 0, 'purposeful': 0, 'It': 0, 'without': 0, 'In': 0, 'Milwaukee': 0, 'grounds': 0, 'If': 0, 'being': 0, 'money': 0, 'actions': 0, '\"healed\"': 0, 'kill': 0, 'seems': 0, 'except': 0, 'possible;': 0, 'real': 0, 'aspects': 0, 'around': 0, 'Secondly': 0, 'rules': 0, 'Many': 0, 'admitting': 0, 'atheists?\"': 0, 'world': 0, 'accepted': 0, 'miracle': 0, 'benefit': 0, 'either': 0, 'counter-arguments': 0, 'attempting': 0, \"'agnosticism'\": 0, 'divine': 0, 'refer': 0, 'biased': 0, 'business': 0, 'industrialized': 0, 'equivalent': 0, 'wrong?\"': 0, 'exists?\"': 0, 'on': 0, 'of': 2, 'practical': 0, \"isn't\": 0, 'act': 0, 'luck': 0, 'or': 0, '(Many': 0, 'No': 0, 'nowadays': 0, 'your': 0, 'weight': 0, 'her': 0, 'assumed': 0, 'there': 0, 'myths': 0, 'start': 0, 'detectable': 0, 'futile': 0, 'cultures': 0, 'assumes': 0, 'Widening': 0, 'complete': 0, 'amongst': 0, 'philosophers': 0, 'you;': 0, 'trying': 0, 'with': 0, 'monopoly': 0, 'default': 0, 'Whilst': 0, 'morality?': 0, 'beliefs': 0, 'USA': 0, 'certain': 0, 'am': 0, 'general': 0, 'How': 0, 'as': 1, 'Bloc': 0, 'at': 0, 'watched': 0, 'encompass': 0, 'An': 0, 'again': 0, '\"Big': 0, 'depth': 0, '\"convert\"': 0, 'valid': 0, '5': 0, 'you': 0, 'From:': 0, 'Israelites': 0, 'separate': 0, 'important': 0, 'building': 0, 'calls': 0, 'controlled': 0, 'impossibility': 0, 'original': 0, 'all': 0, 'consider': 0, 'pointing': 0, 'caused': 0, 'lack': 0, 'founded': 0, 'generalize': 0, 'talks': 0, 'follow': 0, 'alt': 0, 'religious': 0, 'children': 0, 'reluctant': 0, 'apply?\"': 0, 'referring': 0, 'to': 3, 'those': 0, 'lawmakers': 0, 'Christians': 0, 'case': 0, 'very': 0, 'robes': 0, 'decide': 0, 'fall': 0, 'encroaching': 0, 'difference': 0, '17th': 0, \"Don't\": 0, '--': 0, 'applicable': 0, 'charities?\"': 0, '\"immorally\"': 0, 'appearance': 0, 'nothing?\"': 0, 'Should': 0, '\"moral': 0, 'further': 0, 'what': 0, 'attitudes': 0, 'scientists': 0, 'public': 0, 'full': 0, 'behaviour': 0, 'strong': 0, 'backlash': 0, 'sensory': 0, 'search': 0, 'provably': 0, 'allows': 0, 'experience': 0, '\"acts': 0, 'social': 0, 'family': 0, 'suddenly': 0, 'put': 0, 'readily': 0, '\"against\"': 0, 'two': 0, 'God\"': 0, 'more': 0, '\"Those': 0, 'excuse': 0, 'So': 0, 'basically': 0, 'particular': 0, 'known': 0, 'helped': 0, \"Church's\": 0, 'Gods': 0, 'importantly):': 0, 'take;': 0, 'remain': 0, 'iQCVAgUBK8AjRXzXN+VrOblFAQFSbwP+MHePY4g7ge8Mo5wpsivX+kHYYxMErFAO': 0, 'history': 0, 'accept': 0, 'numbers': 0, 'sense': 0, '(\"strong\")': 0, 'dress': 0, 'huge': 0, 'court': 0, 'rather': 0, 'comfort': 0, 'PGP': 0, 'reject': 0, 'tried': 0, 'questioning': 0, 'reflect': 0, '\"Isn\\'t': 0, 'pray?\"': 0, 'non-religious': 0, 'a': 1, 'short': 0, 'perhaps': 0, 'fundamental': 0, 'Taoism': 0, \"that's\": 0, 'What': 0, 'say-so?': 0, \"don't\": 0, 'developed': 0, 'charities': 0, 'telling': 0, 'attitude': 0, 'scientist': 0, 'through': 0, '\"anti-social\"': 0, 'existence': 0, 'its': 0, 'astrology': 0, 'course!': 0, 'pray': 0, 'salvation;': 0, 'actually': 0, 'absence': 0, 'followers': 0, 'might': 0, \"haven't\": 0, 'someone': 0, 'it)': 0, 'food': 0, 'Hawaiian': 0, 'easily': 0, 'always': 0, 'level': 0, 'philosophical': 0, 'deteriorated': 0, 'Thanks': 0, 'positions': 0, 'found': 0, 'difficult': 0, 'characterized': 0, 'referred': 0, 'heavy': 0, 'harm': 0, 'everyone': 0, 'formulate': 0, 'hard': 0, 'idea': 0, 'engaging': 0, 'event': 0, 'really': 0, 'try': 0, 'realising': 0, 'since': 0, 'discouraging': 0, 'then?\"': 0, 'belief': 0, 'According': 0, 'reason': 0, 'ask': 0, 'definition': 0, '<mathew@mantis': 0, 'conducted': 0, 'consequence': 0, 'properly\"': 0, 'throws': 0, 'major': 0, 'feel': 0, 'number': 0, '1876': 0, 'instances': 0, 'done': 0, 'differ': 0, '\"': 0, 'introduction': 0, 'interact': 0, 'obedience': 0, 'least': 0, 'assumption': 0, 'statement': 0, 'immediate': 0, 'part': 0, 'doctors': 0, 'believe': 0, 'convinced': 0, 'king': 0, 'kind': 0, 'vocal': 0, 'determined': 0, 'risks': 0, 'God': 0, 'murder': 0, 'categorized': 0, 'vulnerable': 0, 'lie': 0, 'cropped': 0, 'conforming': 0, 'also': 0, 'analogy': 0, 'finding': 0, 'play': 0, 'towards': 0, 'quote': 0, 'reach': 0, 'took': 0, 'most': 0, 'experiences': 0, 'nothing': 0, 'The': 0, 'clear': 0, 'popularity': 0, 'cover': 0, 'justify': 0, 'physics': 0, 'particularly': 0, 're-defines': 0, 'Theism': 0, 'anti-religious?\"': 0, 'find': 0, 'impact': 0, '(and': 0, 'less': 0, 'assertion': 0, 'unhappy': 0, 'his': 0, 'secular': 0, 'ceasing': 0, 'famous': 0, 'While': 0, 'competing': 0, 'him': 0, 'co-operate': 0, 'True': 0, 'medicines': 0, 'common': 0, 'obscure': 0, 'Christianity:': 0, 'set': 0, 'cynical': 0, 'sex': 0, 'see': 0, 'individual': 0, 'are': 1, 'close': 0, 'expert': 0, 'Requiem': 0, 'something?\"': 0, 'various': 0, 'probably': 0, 'supposed': 0, 'respondents': 0, 'opposition': 0, 'distinguish': 0, 'relying': 0, 'harm?\"': 0, 'however;': 0, 'foreign': 0, 'connection': 0, 'became': 0, 'whole': 0, 'false;': 0, 'Certainly': 0, '\"Well': 0, 'live\"': 0, 'point': 0, 'simple': 0, 'simply': 0, 'church': 0, '[': 0, 'described': 0, 'political': 0, 'Most': 0, 'Today\"': 0, 'Dahmer': 0, 'meeting': 0, 'empty': 0, '\"state': 0, 'dialogue': 0, 'convert': 0, 'else': 0, 'lives': 0, 'evangelical': 0, 'look': 0, '\"friend\"': 0, 'Brother\"': 0, 'behavior': 0, 'Church': 0, 'voters': 0, 'encountered': 0, 'Atheists': 0, 'itself': 0, 'disbelieving': 0, 'increased': 0, 'FAQ': 0, 'read': 0, 'widely': 0, 'exists;': 0, 'Faith': 0, 'About': 0, 'used': 0, 'upbringing': 0, 'moment': 0, 'uses': 0, 'purpose': 0, 'Religious': 0, 'spent': 0, 'person': 0, 'buildings;': 0, 'questions': 0, 'using': 0, 'code?\"': 0, 'praying': 0, 'cup': 0, 'shouting': 0, 'parents': 0, 'questioned': 0, 'surprised': 0, 'On': 0, 'prefer': 0, 'showing': 0, '\"Unexceptional?': 0, 'unlimited': 0, 'matters': 0, 'self-contradictory': 0, 'Definitely': 0, 'necessary': 0, 'Or': 0, '\"correct\"': 0, 'ignore': 0, 'individuals': 0, 'popular': 0, 'foolish': 0, 'Therefore': 0, 'often': 0, 'some': 0, 'insincere': 0, 'serves': 0, 'universes': 0, 'gradually': 0, 'rarely': 0, 'decision': 0, 'shall': 0, 'religion': 0, 'behave': 0, 'tends': 0, 'hosts': 0, 'be': 0, 'Look': 0, 'refused': 0, 'example:': 0, 'by': 0, 'faith': 0, 'asserting': 0, 'anything': 0, 'deserves': 0, 'hatred': 0, 'seeing': 0, 'into': 0, 'within': 0, 'nonsense': 0, 'primarily': 0, 'spending': 0, 'question': 0, 'long': 0, 'atheists': 1, 'files': 0, 'himself': 0, 'repeatedly': 0, 'themselves': 0, 'atheist\"': 0, 'non-existence': 0, 'characteristic': 0, 'atheist)': 0, 'up': 0, 'us': 0, 'conformism;': 0, 'today': 0, 'uk': 0, 'similar': 0, 'called': 0, 'pets': 0, 'sometimes': 0, 'associated': 0, 'Perhaps': 0, 'influence': 0, 'To': 0, 'single': 0, 'denying': 0, 'themselves?': 0, 'TV': 0, 'invalid': 0, 'draw': 0, 'prepared': 0, 'meaning': 0, 'independently': 0, 'mindlessly': 0, 'code?': 0, 'As': 0, 'far': 0, 'having': 0, 'rules\"': 0, 'proposition': 0, 'go': 0, 'conversation': 0, 'issues': 0, 'concerned': 0, 'send': 0, 'Words': 0, 'comfort;': 0, 'Not': 0, 'Now': 0, 'wished': 0, 'continues': 0, 'redefinition': 0, 'disclaimed': 0, 'marry': 0, 'deals': 0, '\"anti-religion\"': 0, 'nihqnzXE8pGvLt7tlez4EoeHZjXLEFrdEyPVayT54yQqGb4HARbOEHDcrTe2atmP': 0, 'concluded': 0, 'decreed': 0, 'imply': 0, 'uncomfortable': 0, '\"Don\\'t': 0, 'odd': 0, 'power': 0, 'scepticism': 0, 'justification': 0, 'chose': 0, 'Freedom': 0, 'Professor': 0, 'following': 0, 'objects': 0, 'let': 0, 'healing': 0, 'separation': 0, 'others': 0, '\"immoral\"': 0, 'people?\"': 0, 'extreme': 0, 'great': 0, 'engage': 0, 'receive': 0, 'larger': 0, 'shades': 0, 'leaving': 0, 'survey': 0, \"weren't\": 0, 'makes': 0, 'honor': 0, 'danger': 0, 'apply': 0, 'use': 0, 'from': 0, 'illegal': 0, 'few': 0, 'doubt': 0, 'exhaustive': 0, 'historically': 0, 'sort': 0, 'started': 0, 'charity': 0, 'majority': 0, 'animals': 0, 'this': 0, 'when': 0, 'anywhere': 0, 'obvious': 0, 'proof': 0, 'control': 0, 'purposes': 0, 'assumptions': 0, 'something': 0, 'justifications': 0, 'serial': 0, 'closed-minded': 0, 'instead': 0, 'Metaphysical': 0, 'denounce': 0, 'Hence': 0, 'non-prayers': 0, 'counter': 0, 'One': 0, 'honestly': 0, 'allow': 0, 'Catholic': 0, 'whilst': 0, 'looks': 0, 'mentioned': 0, 'newsgroup': 0, 'choose': 0, 'orange': 0, 'practice': 0, 'mention': 0, 'realize': 0, 'sinners': 0, 'sufficiently': 0, 'trap': 0, 'truth': 0, 'dogmatic': 0, '\"atheism\"': 0, 'From': 0, 'society': 0, 'books': 0, 'Which': 0, 'our': 0, 'special': 0, 'out': 0, 'fundamentally': 0, 'time;': 0, '\"If': 0, 'Thousands': 0, 'theists': 0, 'memes': 0, 'cause': 0, '\"Is': 0, \"one's\": 0, 'FAQ:': 0, 'This': 0, 'completely': 0, 'surely': 0, 'Firstly': 0, 'backwards': 0, 'hostile': 0, 'could': 0, 'Jesus': 0, 'illicit': 0, 'follows:': 0, 'similar;': 0, 'Naturally': 0, 'enough;': 0, \"doesn't\": 0, 'For': 0, 'Eastern': 0, 'non-Christians': 0, 'unknown': 0, 'their': 0, 'be?': 0, 'perfectly': 0, 'nobody': 0, 'herself': 0, 'institution': 0, 'varieties': 0, 'naturally': 0, 'comfortable': 0, 'unlikely': 0, 'have': 0, 'need': 0, 'slightly:': 0, 'apparently': 0, 'viewed': 0, 'studying': 0, 'able': 0, 'graphology': 0, 'which': 0, 'unless': 0, 'asserts': 0, 'who': 0, 'propagate': 0, 'why': 0, 'discourage': 0, 'Some': 0, 'disease': 0, 'face': 0, \"you'll\": 0, 'fact': 0, 'goals': 0, 'chances': 0, 'sceptical': 0, 'agreed': 0, 'purely': 0, 'trivial': 0, 'debate': 0, 'promote': 0, 'based': 0, 'should': 0, 'entities': 0, 'true?': 0, \"there's\": 0, 'Strong': 0, 'hope': 0, 'meant': 0, '12%': 0, 'watching': 0, 'Whether': 0, 'atheism/introduction': 0, 'ones': 0, 'words': 0, 'Because': 0, 'places': 0, 'she': 0, 'view': 0, 'Disbelief': 0, 'misinterpret?': 0, 'humans': 0, 'rebelling?\"': 0, 'slanted': 0, 'closer': 0, 'Wisconsin': 0, 'mind;': 0, 'reform': 0, 'arguably': 0, 'tend': 0, 'state': 0, 'supernatural': 0, 'arguable': 0, 'ends': 0, 'human;': 0, 'importance': 0, 'exist?': 0, 'Religion': 0, '\"Weak': 0, 'schools?': 0, 'minds': 0, 'agree': 0, 'passing': 0, 'otherwise': 0, 'relevant': 0, 'co': 0, 'Christ': 0, 'conclude': 0, 'invisible': 0, 'self-righteous': 0, \"it's\": 0, 'willing': 0, 'define': 0, 'diversity': 0, '\"purpose\"': 0, 'Subject:': 0, 'an': 0, 'present': 0, \"That's\": 0, 'And': 0, 'atheism?\"': 0, 'memetic': 0, 'harder': 0, 'will': 0, '\"But': 0, 'God?\"': 0, 'almost': 0, 'respected': 0, 'politics': 0, 'claimed': 0, '\"default': 0, 'life?\"': 0, ')': 0, 'strange': 0, 'largest': 0, 'party': 0, 'though;': 0, '\"Even': 0, 'counter-example': 0, 'hospitals?': 0, 'drink': 0, 'upon': 0, 'effect': 0, 'frequently': 0, 'destruction': 0, 'expense': 0, 'well': 0, 'experimental': 0, 'sets': 0, 'counter-examples': 0, 'position': 0, 'Similarly': 0, 'percent': 0, 'mistaken': 0, 'theists?\"': 0, 'Be': 0, 'reasons': 0, 'Buddhists': 0, 'match': 0, 'Verdi': 0, 'Unfortunately': 0, 'government': 0, \"who's\": 0, 'know': 0, 'burden': 0, 'England': 0, 'like': 0, 'admitted': 0, 'loses': 0, '(or': 0, 'become': 0, '\\xff': 0, 'because': 0, 'phenomena': 0, 'searching': 0, 'immortal': 0, 'happens': 0, 'disbelief': 0, 'broad': 0, 'avoid': 0, 'However': 0, 'philosopher': 0, 'does': 0, 'assuming': 0, '7ltVtMVTu66Nz6sBbPw9QkbjArbY/S2sZ9NF5htdii0R6SsEyPl0R6/9bV9okE/q': 0, 'obey': 0, 'pressure': 0, 'murdered': 0, 'although': 0, 'imaginary': 0, 'birthday\"': 0, 'about': 0, 'universe': 0, 'certainty': 0, 'unbelievers': 0, 'equally': 0, 'own': 0, 'previously': 0, 'Two': 0, 'pointless': 0, 'doubtless': 0, 'crucially': 0, 'Archive-name:': 0, 'Science': 0, 'but': 0, 'neutral': 0, 'third-world': 0, 'gain': 0, 'danger?\"': 0, 'he': 0, 'count': 0, '\"weak\"': 0, 'made': 0, 'glory': 0, 'whether': 0, 'wish': 0, '\"Religion\"': 0, 'limit': 0, 'problem': 0, 'display': 0, 'intimidating': 0, 'contribute': 0, '=q2V5': 0, 'is?\"': 0, 'well-defined': 0, 'offensive': 0, 'book': 0, 'Besides': 0, 'overpopulation': 0, '4%': 0, 'February': 0, 'again\"': 0, '\"weak': 0, 'inherently': 0, 'April': 0, 'friends': 0, 'atheist': 0, 'Thus': 0, '\"works\";': 0, 'rule': 0, 'atheism': 0, 'searched': 0, 'understand': 0, '\"the': 0}, {'represent': 0, 'consider': 0, 'edu': 0, 'oldest': 0, '(which': 0, 'to': 2, '>some': 0, 'Not': 0, 'And': 0, '(Charley': 0, 'putting': 0, 'did': 0, 'solution': 0, 'Paul': 0, 'says': 0, 'estimates': 0, 'Matthew': 0, 'even': 0, 'what': 0, 'appear': 0, \">We're\": 0, 'goes': 0, 'new': 0, 'learned': 0, 'Re:': 0, 'edited': 0, 'say?': 0, '(Benedikt': 0, 'here': 0, 'strong': 0, 'sender': 0, 'elaborate': 0, 'reports': 0, 'usually': 0, '>to': 0, 'elaborated': 0, '>>quite': 0, 'When': 0, '\"editing\"': 0, 'texts': 0, 'from': 0, 'would': 0, 'two': 0, 'doubt': 0, 'card': 0, 'Felder': 0, 'more': 0, 'sort': 0, 'three?': 0, 'So': 0, 'basically': 0, 'known': 0, '>>Assuming': 0, 'must': 0, 'me': 0, 'account': 0, 'this': 0, 'obvious': 0, 'can': 0, 'my': 0, 'claim': 0, 'figure': 0, 'give': 0, 'sense': 0, 'times': 0, '>and': 0, 'respective': 0, 'end': 0, 'how': 0, 'synopsys': 0, 'mess': 0, 'after': 0, 'Q': 0, 'date': 0, 'such': 0, 'Gospel': 0, 'a': 1, 'One': 0, 'order': 0, \"don't\": 0, 'style': 0, 'counterargument': 0, 'late': 0, 'might': 0, \"haven't\": 0, 'then': 0, 'them': 0, 'incompleteness': 0, '>>I': 0, 'material': 0, 'break': 0, 'it?': 0, 'little?': 0, 'they': 0, 'not': 1, 'association': 0, 'events': 0, 'entirely': 0, '>>It': 0, 'generation': 0, 'our': 0, 'really': 0, 'rz': 0, 'content': 0, '>>first': 0, 'got': 0, 'redating': 0, 'quite': 0, 'attributions': 0, 'base': 0, 'put': 0, 'shortest': 0, 'language': 0, 'dated?': 0, 'Jesus': 0, 'follows:': 0, 'think': 0, \">'70s\": 0, 'one': 0, 'elder': 0, 'least': 0, 'directly': 0, 'necessarily': 0, \"'canonized'\": 0, 'their': 0, 'assumption': 0, '>Well': 0, 'relies': 0, 'illiterate': 0, 'that': 2, '\"big': 0, 'explanation': 0, 'exactly': 0, 'part': 0, \"Luke's\": 0, 'authors': 0, '>a': 0, 'overwhelming': 0, 'than': 0, '>I': 0, 'supposed': 0, 'were': 0, 'posit': 0, 'Peter': 0, 'and': 2, 'ages': 0, 'argument': 0, '(and': 0, 'talking': 0, 'have': 0, 'seem': 0, 'theology': 0, 'any': 0, 'Benedikt': 0, '>This': 0, 'genuine': 0, 'John?': 0, 'latter': 0, 'also': 0, 'take': 0, 'They': 0, '>And': 0, '200': 0, 'knew': 0, '>>>(1)': 0, 'most': 0, 'I3150101@dbstu1': 0, 'letter': 0, 'nothing': 0, 'The': 0, 'why': 0, 'something?': 0, 'considered': 0, 'clear': 0, 'later': 0, '>cannot': 0, 'traditional': 0, 'If': 0, 'text': 0, 'ending': 0, 'discovered': 0, 'fine': 0, 'We': 0, 'believe': 0, 'based': 0, 'knowledge': 0, 'only': 0, 'pretty': 0, '<65974@mimsy': 0, 'do': 0, 'de': 0, 'Mark)': 0, '>lifetimes': 0, 'gospel\"': 0, 'words': 0, 'manuscripts': 0, 'him': 0, 'societies': 0, 'sources': 0, 'Rosenau)': 0, 'bad': 0, 'gospel': 0, 'where': 0, 'see': 0, 'are': 1, 'close': 0, 'John': 1, 'best': 0, 'said': 0, 'That': 0, 'mangoe@cs': 0, 'enough': 0, \"there's\": 0, 'probably': 0, 'diciples': 0, 'missing': 0, 'Could': 0, 'weak': 0, 'article': 0, \"wouldn't\": 0, '>Unfortunately': 0, 'receiver': 0, 'edu>': 0, 'point': 0, 'seems': 0, 'Wingate)': 0, 'spans': 0, 'news': 0, 'Dating': 0, 'speak': 0, 'better': 0, 'Sure': 0, \"it's\": 0, '>>Interesting': 0, 'been': 0, '>>Well': 0, '\"one': 0, '>': 1, \"what's\": 0, 'CE': 0, 'Subject:': 0, 'evidence': 0, 'case': 0, 'look': 0, 'How': 0, 'these': 0, 'century': 0, 'almost': 0, 'is': 2, '>>of': 0, 'it': 0, 'itself': 0, 'in': 1, '>hopeless': 0, 'if': 0, 'different': 0, 'Luke': 1, 'clearly': 0, 'arguments': 0, '9': 0, 'diciple': 0, 'gets': 0, 'disciple': 0, 'used': 0, 'I': 0, 'IS': 0, 'hand': 0, '>information': 0, 'which?': 0, 'off': 0, 'older': 0, 'Is': 0, 'well': 0, 'It': 0, 'obviously': 0, 'In': 0, 'the': 4, 'Id': 0, 'usual': 0, '>then': 0, 'rest': 0, 'quotes': 0, '>The': 0, 'had': 0, 'source': 0, 'verse': 0, '(I': 0, '>>give': 0, 'has': 0, 'transformation': 0, 'which': 0, 'read': 0, 'James': 0, 'early': 0, 'possibly': 0, 'antiquated)': 0, 'know': 0, 'accepted': 0, 'like': 0, 'lost': 0, 'follows': 0, 'either': 0, 'admittedly': 0, 'shed': 0, 'old': 0, 'tu-bs': 0, 'people': 0, '>>manuscripts?': 0, 'some': 0, 'Mark': 0, 'for': 0, 'Earlier': 0, 'However': 0, 'umd': 0, 'does': 0, 'be': 0, 'Q-oid': 0, 'midsentence': 0, 'think)': 0, 'step': 0, '>>There': 0, 'codified': 0, 'on': 0, 'about': 0, 'of': 4, 'range': 0, 'connected': 0, 'or': 0, '>>Luke': 0, 'within': 0, 'But': 0, 'your': 0, 'assumed': 0, 'there': 0, \"'80s\": 0, 'way': 0, 'was': 0, 'complete': 0, 'form': 0, 'they?': 0, 'but': 0, 'removed': 0, 'with': 0, 'he': 0, 'info': 0, 'Compare': 0, '>>used': 0, 'versions': 0, 'stories': 0, 'removed\"': 0, 'problem': 0, 'similar': 0, 'believers': 0, 'an': 0, 'To': 0, 'as': 0, 'at': 0, 'no': 0, 'generally': 0, 'other': 0, 'writes:': 0, 'you': 0, 'From:': 0, 'age': 0, 'Am': 0, 'together': 0, 'As': 0, 'time': 0, 'original': 0}, {'saying': 0, 'all': 0, 'just': 0, 'text': 0, 'over': 0, 'What': 0, 'Religion': 0, 'through': 0, 'RAs': 0, 'edu': 0, \"he'll\": 0, 'religious': 0, 'assembled': 0, 'soul_': 0, 'copy': 0, 'Recently': 0, 'somewhere': 0, '(': 0, 'Director': 0, 'spirituality': 0, 'pretty': 0, 'friendly': 0, 'do': 0, 'violating': 0, 'someone': 0, \"they're\": 0, 'very': 0, 'matters': 0, 'dmn@kepler': 0, 'not': 0, 'poses': 0, 'vague': 0, 'apparently)': 0, 'school': 0, 'like': 0, 'university': 0, 'wipe)': 0, 'mincer': 0, 'outrageously': 0, 'Hampshire)': 0, 'each': 0, 'become': 0, 'From:': 0, 'luck': 0, 'mental': 0, 'some': 0, 'back': 0, 'see': 0, 'New': 0, 'newsletter': 0, 'neighbourhood': 0, 'out': 0, \"'\": 0, 'solicits': 0, 'defend': 0, 'supporter': 0, 'religion': 0, 'state': 0, 'issue': 0, 'Re:': 0, 'be': 0, 'run': 0, 'responses': 0, 'This': 0, 'University': 0, 'use': 0, 'flyer': 0, 'separation': 0, 'put': 0, 'post': 0, 'strong': 0, 'paste': 0, 'by': 0, 'on': 1, 'about': 1, 'kings)': 0, 'Give': 0, '<mathew@mantis': 0, 'of': 3, \"I've\": 0, 'Scroll:': 0, 'Jesus': 0, 'unh': 0, '(at': 0, 'or': 1, 'enraged': 0, '\"Well': 0, 'co': 0, \"It's\": 0, 'church/state?': 0, 'one': 0, '(You': 0, \"'issue\": 0, 'church': 0, 'kings': 0, 'sounds': 0, 'your': 0, \"doesn't\": 0, 'bathroom': 0, '\"': 0, 'to': 2, \"it's\": 0, 'support': 0, 'question': 0, 'been': 0, 'next': 0, 'cared': 0, 'Matters': 0, 'now:': 0, '_The': 0, 'was': 0, 'until': 0, 'Thoughts': 0, '>': 5, 'sort': 0, 'an': 0, 'gut-bustingly': 0, 'Stool': 0, 'but': 0, 'philosophers': 0, 'STATE': 0, 'bible': 0, 'So': 0, 'resisted': 0, 'Subject:': 0, 'careful': 0, 'with': 0, 'Scroll': 0, 'me': 0, 'uk>': 0, 'none': 0, 'originals': 0, 'Spirituality': 0, 'this': 0, 'inside': 0, 'what???': 0, 'stall': 0, 'can': 1, 'OUT': 0, 'my': 0, 'this?': 0, 'and': 2, 'ordered': 0, 'is': 0, 'it': 1, '(and': 0, 'heard': 0, 'as': 0, 'have': 0, 'in': 0, 'campus': 0, 'funny': 0, 'Christian': 0, 'offensive': 0, 'any': 0, 'doors': 0, 'writes:': 0, 'you': 0, 'Hall': 0, 'entitled': 0, 'I': 1, 'Soul': 0, 'hand': 0, 'included': 0, 'The': 0, 'preacher;': 0, 'a': 2, 'mathew': 0, 'for': 0, 'mention': 0, 'assume': 0, 'SCREAMING': 0, 'It': 1, \"'spirituality'\": 0, 'Colon': 0, 'SubGenius': 0, 'the': 3, 'parody': 0}, {'93Apr5120934@harder': 0, 'strom@watson': 0, 'Scouts\"': 0, 'hate': 1, '784-7641': 0, 'issues': 0, 'River': 0, 'HOWEVER': 0, 'to': 1, 'Strom)': 0, 'somebody': 0, 'worse': 0, '|>': 4, '[2]': 0, 'stop': 0, 'P': 0, 'Can': 0, 'they': 0, 'Research': 0, 'terrorism': 0, 'approach': 0, '(Bob': 0, '--': 0, 'supports': 0, 'Mill': 0, 'Saw': 0, '[1]': 1, 'Box': 0, '704': 0, '<N4HY': 0, 'economic': 0, 'et': 0, 'matching': 0, 'funding': 0, 'for': 0, 'axes': 0, 'strom@Watson': 0, 'between': 0, '[soc': 0, 'Re:': 0, 'Boy': 0, 'Heights': 0, '(914)': 0, 'O': 0, 'org': 0, '10598': 0, 'on': 0, 'of': 0, 'Rob': 0, '30': 0, 'correctness': 0, 'contradiction': 0, 'motss': 0, 'scouts': 0, 'com': 0, 'or': 0, 'ida': 1, 'directly': 0, 'article': 0, 'IBM': 0, '[2]?': 0, ']': 0, 'political': 0, 'NY': 0, 'organizating': 0, 'org>': 0, 'until': 0, 'more': 0, 'gay': 0, 'that': 0, 'funds': 0, 'apparent': 0, 'policy': 0, 'ccr-p': 1, 'Subject:': 0, 'than': 0, 'Road': 0, 'ibm': 0, 'rights': 0, 'this': 0, 'and': 1, 'reconcile': 0, 'is': 0, 'al': 0, 'boycott': 0, 'donating': 0, '(Rob': 0, 'Strom': 0, 'n4hy@harder': 0, 'Ibm': 0, 'end': 0, 'writes:': 0, '\"Princeton': 0, 'From:': 0, 'A': 0, 'I': 1, 'Yorktown': 0, 'Com': 0, 'effective': 0, 'ANY': 0, 'In': 0, 'the': 1, 'McGwier)': 0, 'indirectly': 0}]\n"
     ]
    }
   ],
   "source": [
    "list_of_dictionaries = [] # Initially, an empty list\n",
    "for messageNumber in range(len(messages_aa)):\n",
    "    words = messages_aa[messageNumber]\n",
    "    myDictionary = createDictionary(words)\n",
    "    for word in myDictionary:\n",
    "        myDictionary[word] = 100*myDictionary[word]/len(words)  \n",
    "    list_of_dictionaries.append(myDictionary)\n",
    "    \n",
    "print(list_of_dictionaries)"
   ]
  },
  {
   "cell_type": "code",
   "execution_count": null,
   "metadata": {
    "collapsed": true
   },
   "outputs": [],
   "source": []
  }
 ],
 "metadata": {
  "anaconda-cloud": {},
  "kernelspec": {
   "display_name": "Python [default]",
   "language": "python",
   "name": "python2"
  },
  "language_info": {
   "codemirror_mode": {
    "name": "ipython",
    "version": 2
   },
   "file_extension": ".py",
   "mimetype": "text/x-python",
   "name": "python",
   "nbconvert_exporter": "python",
   "pygments_lexer": "ipython2",
   "version": "2.7.12"
  }
 },
 "nbformat": 4,
 "nbformat_minor": 0
}
