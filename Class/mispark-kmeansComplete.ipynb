{
 "cells": [
  {
   "cell_type": "markdown",
   "metadata": {},
   "source": [
    "# Programming K-means (the unsupervised clustering algorithm) in Spark"
   ]
  },
  {
   "cell_type": "markdown",
   "metadata": {},
   "source": [
    "Algorithm k-means (k)\t\n",
    "1. Initialize the location of the k prototypes kj\n",
    "\t (usually, randomly)\t\n",
    "2. (MAP) Assign each instance xi to its closest prototype \n",
    "\t(usually, closeness = Euclidean distance).\t\n",
    "3. (REDUCE) Update the location of prototypes kj as the average of the instances xi assigned to each cluster.\t\n",
    "4. Go to 2, until \tclusters do not change\n"
   ]
  },
  {
   "cell_type": "markdown",
   "metadata": {},
   "source": [
    "**Start the SPARK context**"
   ]
  },
  {
   "cell_type": "code",
   "execution_count": 2,
   "metadata": {
    "collapsed": false
   },
   "outputs": [],
   "source": [
    "import sys\n",
    "import os\n",
    "import os.path\n",
    "\n",
    "SPARK_HOME = \"\"\"C:/spark-2.1.0-bin-hadoop2.7\"\"\" #CHANGE THIS PATH TO YOURS!\n",
    "\n",
    "sys.path.append(os.path.join(SPARK_HOME, \"python\", \"lib\", \"py4j-0.10.4-src.zip\")) #BEWARE WITH py4j version!!\n",
    "sys.path.append(os.path.join(SPARK_HOME, \"python\", \"lib\", \"pyspark.zip\"))\n",
    "os.environ[\"SPARK_HOME\"] = SPARK_HOME\n",
    "\n",
    "\n",
    "from pyspark.sql import SparkSession\n",
    "\n",
    "spark = SparkSession \\\n",
    "    .builder \\\n",
    "    .appName(\"kmeans\") \\\n",
    "    .config(\"spark.some.config.option\", \"some-value\") \\\n",
    "    .getOrCreate()\n",
    "    \n",
    "sc = spark.sparkContext"
   ]
  },
  {
   "cell_type": "markdown",
   "metadata": {},
   "source": [
    "**Check the SPARK context there  **"
   ]
  },
  {
   "cell_type": "code",
   "execution_count": 3,
   "metadata": {
    "collapsed": false
   },
   "outputs": [
    {
     "name": "stdout",
     "output_type": "stream",
     "text": [
      "<pyspark.context.SparkContext object at 0x0000000006B2E9E8>\n",
      "<class 'pyspark.context.SparkContext'>\n"
     ]
    }
   ],
   "source": [
    "print(sc)\n",
    "print(type(sc))"
   ]
  },
  {
   "cell_type": "markdown",
   "metadata": {},
   "source": [
    "**Relevant packages are loaded**"
   ]
  },
  {
   "cell_type": "code",
   "execution_count": 4,
   "metadata": {
    "collapsed": false
   },
   "outputs": [],
   "source": [
    "%matplotlib inline\n",
    "from pyspark.mllib.regression import LabeledPoint\n",
    "import numpy as np\n",
    "import matplotlib.pyplot as plt"
   ]
  },
  {
   "cell_type": "markdown",
   "metadata": {},
   "source": [
    "**The iris dataset is loaded in the driver program **"
   ]
  },
  {
   "cell_type": "code",
   "execution_count": 5,
   "metadata": {
    "collapsed": false
   },
   "outputs": [],
   "source": [
    "from sklearn.datasets import load_iris\n",
    "iris = load_iris()\n",
    "X = iris.data            # Input attributes\n",
    "y = iris.target          # Label\n",
    "# zip is used so that each instance is a tuble of (label, input attributes). \n",
    "# This will make life easier later\n",
    "# Note: zip([1,2,3], [\"a\",\"b\",\"c\"]) => [(1, 'a'), (2, 'b'), (3, 'c')]\n",
    "data = zip(y,X) "
   ]
  },
  {
   "cell_type": "markdown",
   "metadata": {},
   "source": [
    "**And then, it is distributed into 4 partitions (or the numbers of actual cores in your computer)**"
   ]
  },
  {
   "cell_type": "code",
   "execution_count": 6,
   "metadata": {
    "collapsed": false
   },
   "outputs": [
    {
     "name": "stdout",
     "output_type": "stream",
     "text": [
      "4\n"
     ]
    }
   ],
   "source": [
    "data_rdd = sc.parallelize(data,4)\n",
    "print data_rdd.getNumPartitions()"
   ]
  },
  {
   "cell_type": "markdown",
   "metadata": {},
   "source": [
    "** Now, each instance is transformed into a spark labeled point. k-means could be programmed using only standard RDDs, without using LabeledPoints, but we will use them in order to handle all datasets in the same way. **"
   ]
  },
  {
   "cell_type": "code",
   "execution_count": 7,
   "metadata": {
    "collapsed": false
   },
   "outputs": [
    {
     "data": {
      "text/plain": [
       "[LabeledPoint(0.0, [5.1,3.5,1.4,0.2])]"
      ]
     },
     "execution_count": 7,
     "metadata": {},
     "output_type": "execute_result"
    }
   ],
   "source": [
    "data_rdd = data_rdd.map(lambda x: LabeledPoint(x[0], x[1]))\n",
    "data_rdd.take(1)"
   ]
  },
  {
   "cell_type": "markdown",
   "metadata": {},
   "source": [
    "**Now we separate input attributes (X_rdd) from labels (y_rdd). In order to program K-Means, only X_rdd will be used, because K-means is an unsupervised algorithm **"
   ]
  },
  {
   "cell_type": "code",
   "execution_count": 8,
   "metadata": {
    "collapsed": false
   },
   "outputs": [],
   "source": [
    "X_rdd = data_rdd.map(lambda x: x.features)\n",
    "y_rdd = data_rdd.map(lambda x: x.label)"
   ]
  },
  {
   "cell_type": "code",
   "execution_count": 9,
   "metadata": {
    "collapsed": false
   },
   "outputs": [
    {
     "name": "stdout",
     "output_type": "stream",
     "text": [
      "[DenseVector([5.1, 3.5, 1.4, 0.2]), DenseVector([4.9, 3.0, 1.4, 0.2])]\n",
      "[0.0, 0.0]\n"
     ]
    }
   ],
   "source": [
    "print(X_rdd.take(2))\n",
    "print(y_rdd.take(2))"
   ]
  },
  {
   "cell_type": "markdown",
   "metadata": {},
   "source": [
    "** The K-means algorithm starts here. First, the number of required clusters is initialized to 3 and the initial prototypes are initialized to three random instances (the original algorithm initialized it to three random locations)**"
   ]
  },
  {
   "cell_type": "code",
   "execution_count": 10,
   "metadata": {
    "collapsed": false
   },
   "outputs": [
    {
     "data": {
      "text/plain": [
       "[DenseVector([6.4, 2.8, 5.6, 2.2]),\n",
       " DenseVector([5.5, 2.5, 4.0, 1.3]),\n",
       " DenseVector([5.2, 4.1, 1.5, 0.1])]"
      ]
     },
     "execution_count": 10,
     "metadata": {},
     "output_type": "execute_result"
    }
   ],
   "source": [
    "K=3\n",
    "kPrototypes = X_rdd.takeSample(False, K, 1)\n",
    "kPrototypes"
   ]
  },
  {
   "cell_type": "markdown",
   "metadata": {},
   "source": [
    "**The following function is not part of the K-means algorithm but it will help us to plot iris data and the current location of the three prototypes. Remark: iris has four input attributes and therefore prototypes have also four-dimensional. For the sake of simplicity, the plot shows only the first two input attributes.  **"
   ]
  },
  {
   "cell_type": "code",
   "execution_count": 11,
   "metadata": {
    "collapsed": false
   },
   "outputs": [],
   "source": [
    "def plotPrototypes():\n",
    "    plt.scatter(X[:, 0], X[:, 1])\n",
    "    # kPrototypes is transformed into a numpy matrix (attributes in the columns, instances in the rows)\n",
    "    kProtos = np.array(map(lambda x: x, np.array(kPrototypes)))\n",
    "    plt.scatter(kProtos[:,0], kProtos[:,1], color='red', s=200)"
   ]
  },
  {
   "cell_type": "code",
   "execution_count": 12,
   "metadata": {
    "collapsed": false
   },
   "outputs": [
    {
     "data": {
      "image/png": "[encoded data removed]",
      "text/plain": [
       "<matplotlib.figure.Figure at 0x9012908>"
      ]
     },
     "metadata": {},
     "output_type": "display_data"
    }
   ],
   "source": [
    "plotPrototypes()"
   ]
  },
  {
   "cell_type": "markdown",
   "metadata": {},
   "source": [
    "**Step 2 of the K-means algorithm is \"2.Assign each instance xi to its closest prototype\". Function closestPrototype is defined for this purpose** "
   ]
  },
  {
   "cell_type": "code",
   "execution_count": 13,
   "metadata": {
    "collapsed": false
   },
   "outputs": [],
   "source": [
    "def closestPrototype(x):\n",
    "    # First, \n",
    "    distances = map(lambda kp: np.linalg.norm(x-kp), kPrototypes)\n",
    "    distances = np.array(distances)\n",
    "    return(np.ndarray.argmin(distances))\n"
   ]
  },
  {
   "cell_type": "markdown",
   "metadata": {},
   "source": [
    "**Step 2.Assign each instance xi to its closest prototype.** \n",
    "  closest_rdd is an RDD that contains a (key, value) tuple. The key is the index (0,1,2) of the closest of the three prototypes. The value is (x,1). x are the input attributes *x* of the instance. The \"1\" is difficult to understand at this point, but it will be useful later."
   ]
  },
  {
   "cell_type": "code",
   "execution_count": 14,
   "metadata": {
    "collapsed": false
   },
   "outputs": [],
   "source": [
    "closest_rdd = X_rdd.map(lambda x: (closestPrototype(x), (x,1)))"
   ]
  },
  {
   "cell_type": "code",
   "execution_count": 15,
   "metadata": {
    "collapsed": false
   },
   "outputs": [
    {
     "data": {
      "text/plain": [
       "[(2, (DenseVector([5.1, 3.5, 1.4, 0.3]), 1)),\n",
       " (2, (DenseVector([5.0, 3.0, 1.6, 0.2]), 1)),\n",
       " (1, (DenseVector([6.1, 2.8, 4.7, 1.2]), 1)),\n",
       " (0, (DenseVector([6.3, 2.5, 5.0, 1.9]), 1)),\n",
       " (0, (DenseVector([7.4, 2.8, 6.1, 1.9]), 1)),\n",
       " (2, (DenseVector([4.7, 3.2, 1.6, 0.2]), 1)),\n",
       " (0, (DenseVector([6.3, 2.9, 5.6, 1.8]), 1)),\n",
       " (2, (DenseVector([4.6, 3.4, 1.4, 0.3]), 1)),\n",
       " (0, (DenseVector([6.8, 3.0, 5.5, 2.1]), 1)),\n",
       " (1, (DenseVector([5.5, 2.5, 4.0, 1.3]), 1))]"
      ]
     },
     "execution_count": 15,
     "metadata": {},
     "output_type": "execute_result"
    }
   ],
   "source": [
    "closest_rdd.takeSample(False, 10, 1)"
   ]
  },
  {
   "cell_type": "markdown",
   "metadata": {},
   "source": [
    "**Step 3.(REDUCE) Update the location of prototypes kj as the average of the instances xi assigned to each cluster. **: "
   ]
  },
  {
   "cell_type": "code",
   "execution_count": 16,
   "metadata": {
    "collapsed": false
   },
   "outputs": [
    {
     "data": {
      "text/plain": [
       "[(0, (DenseVector([383.1, 173.1, 316.7, 113.6]), 58)),\n",
       " (1, (DenseVector([243.1, 114.1, 173.9, 54.0]), 42)),\n",
       " (2, (DenseVector([250.3, 170.9, 73.2, 12.2]), 50))]"
      ]
     },
     "execution_count": 16,
     "metadata": {},
     "output_type": "execute_result"
    }
   ],
   "source": [
    "# For every prototype, compute the sum of the input attributes of the instances assigned to each prototype: p1[0] + p2[0]\n",
    "# The aim is to eventually compute the average, which is this sum divided by the number of instances assigned to each prototype\n",
    "# In order to compute the number of instances of each prototype, we add the \"1\"s: p1[1] + p2[1]\n",
    "# Notice that kPrototypes is a variable collected in the (local) driver program\n",
    "kPrototypes = closest_rdd.reduceByKey(lambda p1, p2: (p1[0] + p2[0], p1[1] + p2[1])).collect()\n",
    "kPrototypes\n"
   ]
  },
  {
   "cell_type": "code",
   "execution_count": 17,
   "metadata": {
    "collapsed": false
   },
   "outputs": [
    {
     "data": {
      "text/plain": [
       "[DenseVector([6.6052, 2.9845, 5.4603, 1.9586]),\n",
       " DenseVector([5.7881, 2.7167, 4.1405, 1.2857]),\n",
       " DenseVector([5.006, 3.418, 1.464, 0.244])]"
      ]
     },
     "execution_count": 17,
     "metadata": {},
     "output_type": "execute_result"
    }
   ],
   "source": [
    "# The average is now computed locally (in the driver program)\n",
    "\n",
    "kPrototypes = map(lambda (k,(summation, n)): summation / n, kPrototypes)\n",
    "kPrototypes"
   ]
  },
  {
   "cell_type": "markdown",
   "metadata": {},
   "source": [
    "**Let's see if the prototypes have a better location now **"
   ]
  },
  {
   "cell_type": "code",
   "execution_count": 18,
   "metadata": {
    "collapsed": false
   },
   "outputs": [
    {
     "data": {
      "image/png": "[encoded data removed]",
      "text/plain": [
       "<matplotlib.figure.Figure at 0x936f5c0>"
      ]
     },
     "metadata": {},
     "output_type": "display_data"
    }
   ],
   "source": [
    "plotPrototypes()"
   ]
  },
  {
   "cell_type": "markdown",
   "metadata": {},
   "source": [
    "**The K-means steps are carried out 4 times more (actually, they should be carried out until the prototypes remain approximately in the same place)**"
   ]
  },
  {
   "cell_type": "code",
   "execution_count": 19,
   "metadata": {
    "collapsed": false
   },
   "outputs": [],
   "source": [
    "for i in range(4):\n",
    "    # 2. (MAP) Assign each instance xi to its closest prototype \n",
    "    closest_rdd = X_rdd.map(lambda x: (closestPrototype(x), (x,1)))\n",
    "    # 3. (REDUCE) Update the location of prototypes kj as the average of the instances xi assigned to each cluster.\n",
    "    kPrototypes = closest_rdd.reduceByKey(lambda p1, p2: (p1[0] + p2[0], p1[1] + p2[1])).collect()\n",
    "    kPrototypes = map(lambda (k,(summation, n)): summation / n, kPrototypes)"
   ]
  },
  {
   "cell_type": "code",
   "execution_count": 20,
   "metadata": {
    "collapsed": false
   },
   "outputs": [
    {
     "data": {
      "text/plain": [
       "[DenseVector([6.8023, 3.0442, 5.6488, 2.0302]),\n",
       " DenseVector([5.8544, 2.7421, 4.3456, 1.4088]),\n",
       " DenseVector([5.006, 3.418, 1.464, 0.244])]"
      ]
     },
     "execution_count": 20,
     "metadata": {},
     "output_type": "execute_result"
    }
   ],
   "source": [
    "kPrototypes"
   ]
  },
  {
   "cell_type": "markdown",
   "metadata": {},
   "source": [
    "** And check the final result **"
   ]
  },
  {
   "cell_type": "code",
   "execution_count": 21,
   "metadata": {
    "collapsed": false
   },
   "outputs": [
    {
     "data": {
      "image/png": "[encoded data removed]",
      "text/plain": [
       "<matplotlib.figure.Figure at 0xa368208>"
      ]
     },
     "metadata": {},
     "output_type": "display_data"
    }
   ],
   "source": [
    "plotPrototypes()"
   ]
  },
  {
   "cell_type": "code",
   "execution_count": 22,
   "metadata": {
    "collapsed": true
   },
   "outputs": [],
   "source": [
    "# Finally, the spark context is closed\n",
    "sc.stop()"
   ]
  },
  {
   "cell_type": "code",
   "execution_count": null,
   "metadata": {
    "collapsed": true
   },
   "outputs": [],
   "source": []
  }
 ],
 "metadata": {
  "kernelspec": {
   "display_name": "Python 2",
   "language": "python",
   "name": "python2"
  },
  "language_info": {
   "codemirror_mode": {
    "name": "ipython",
    "version": 2
   },
   "file_extension": ".py",
   "mimetype": "text/x-python",
   "name": "python",
   "nbconvert_exporter": "python",
   "pygments_lexer": "ipython2",
   "version": "2.7.11"
  }
 },
 "nbformat": 4,
 "nbformat_minor": 0
}
